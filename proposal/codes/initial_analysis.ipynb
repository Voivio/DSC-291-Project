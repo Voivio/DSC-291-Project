{
 "cells": [
  {
   "cell_type": "code",
   "execution_count": 1,
   "metadata": {},
   "outputs": [],
   "source": [
    "import pandas as pd\n",
    "import numpy as np\n",
    "import matplotlib.pyplot as plt\n",
    "from scipy.stats import norm, rv_histogram\n",
    "\n",
    "from tqdm import tqdm_notebook\n",
    "from tqdm.notebook import tqdm\n"
   ]
  },
  {
   "cell_type": "code",
   "execution_count": 50,
   "metadata": {},
   "outputs": [
    {
     "name": "stdout",
     "output_type": "stream",
     "text": [
      "Index(['treatment', 'control', 'ratio', 'ratio2', 'ratio3', 'size', 'size25',\n",
      "       'size50', 'size100', 'sizeno', 'ask', 'askd1', 'askd2', 'askd3', 'ask1',\n",
      "       'ask2', 'ask3', 'amount', 'gave', 'amountchange', 'hpa', 'ltmedmra',\n",
      "       'freq', 'years', 'year5', 'mrm2', 'dormant', 'female', 'couple',\n",
      "       'state50one', 'nonlit', 'cases', 'statecnt', 'stateresponse',\n",
      "       'stateresponset', 'stateresponsec', 'stateresponsetminc', 'perbush',\n",
      "       'close25', 'red0', 'blue0', 'redcty', 'bluecty', 'pwhite', 'pblack',\n",
      "       'page18_39', 'ave_hh_sz', 'median_hhincome', 'powner', 'psch_atlstba',\n",
      "       'pop_propurban'],\n",
      "      dtype='object')\n",
      "(50083, 51)\n",
      "Number of treatment: 33396\n",
      "Number of control: 16687\n"
     ]
    }
   ],
   "source": [
    "data_path = \"./AER merged.csv\"\n",
    "# data_path = \"./data_econ.csv\"\n",
    "\n",
    "\n",
    "df = pd.read_csv(data_path, index_col=0)\n",
    "\n",
    "treatment = df.loc[df.treatment == 1]\n",
    "control = df.loc[df.treatment == 0]\n",
    "\n",
    "# printb basics about the dataframe\n",
    "print(df.keys())\n",
    "print(df.shape)\n",
    "\n",
    "print(\"Number of treatment: {}\".format(len(treatment)))\n",
    "print(\"Number of control: {}\".format(len(control)))\n"
   ]
  },
  {
   "cell_type": "code",
   "execution_count": 48,
   "metadata": {},
   "outputs": [
    {
     "name": "stdout",
     "output_type": "stream",
     "text": [
      "          gave  amount  amountchange\n",
      "ratio                               \n",
      "1        11133   11133         11133\n",
      "2        11134   11134         11134\n",
      "3        11129   11129         11129\n",
      "Control  16687   16687         16687\n"
     ]
    },
    {
     "data": {
      "text/plain": [
       "Text(0.5, 0, 'Treatment')"
      ]
     },
     "execution_count": 48,
     "metadata": {},
     "output_type": "execute_result"
    },
    {
     "data": {
      "image/png": "[encoded data removed]",
      "text/plain": [
       "<Figure size 432x288 with 1 Axes>"
      ]
     },
     "metadata": {
      "needs_background": "light"
     },
     "output_type": "display_data"
    }
   ],
   "source": [
    "ratio_comp = df.groupby(\n",
    "    [\"ratio\"]\n",
    ").count().loc[:, [\"gave\", \"amount\", \"amountchange\"]]\n",
    "print(ratio_comp)\n",
    "\n",
    "plt.bar([\"1:1\", \"2:1\", \"3:1\", \"Cont.\"], ratio_comp.gave.values * 100)\n",
    "plt.ylabel(\"Resp. Rate (%)\")\n",
    "plt.xlabel(\"Treatment\")"
   ]
  },
  {
   "cell_type": "code",
   "execution_count": 59,
   "metadata": {},
   "outputs": [
    {
     "data": {
      "text/plain": [
       "Text(0.5, 0, 'Treatment')"
      ]
     },
     "execution_count": 59,
     "metadata": {},
     "output_type": "execute_result"
    },
    {
     "data": {
      "image/png": "[encoded data removed]",
      "text/plain": [
       "<Figure size 432x288 with 1 Axes>"
      ]
     },
     "metadata": {
      "needs_background": "light"
     },
     "output_type": "display_data"
    }
   ],
   "source": [
    "ratio_comp = df.groupby(\n",
    "    [\"ratio\"]\n",
    ").mean().loc[:, [\"gave\", \"amount\", \"amountchange\"]]\n",
    "\n",
    "plt.bar([\"1:1\", \"2:1\", \"3:1\", \"Cont.\"], np.abs(ratio_comp.amountchange.values))\n",
    "# plt.errorbar([0, 1, 2, 3], ratio_comp.amount.values * np.array([2, 3, 4, 1]), yerr=std.amount.values, fmt=\"o\")\n",
    "plt.ylabel(\"Dollar (Absolute value)\")\n",
    "plt.xlabel(\"Treatment\")"
   ]
  },
  {
   "cell_type": "markdown",
   "metadata": {},
   "source": [
    "## The summary statistics"
   ]
  },
  {
   "cell_type": "code",
   "execution_count": 165,
   "metadata": {},
   "outputs": [
    {
     "name": "stdout",
     "output_type": "stream",
     "text": [
      "8.04(11.39) & 8.04(11.39) & 8.05(11.40)\n",
      "6.10(5.50) & 6.08(5.44) & 6.14(5.63)\n",
      "59.38(71.18) & 59.60(73.05) & 58.96(67.27)\n",
      "13.01(12.08) & 13.01(12.09) & 13.00(12.07)\n",
      "0.52(0.50) & 0.52(0.50) & 0.52(0.50)\n",
      "0.28(0.45) & 0.28(0.45) & 0.28(0.45)\n",
      "0.09(0.29) & 0.09(0.29) & 0.09(0.29)\n",
      "0.40(0.49) & 0.41(0.49) & 0.40(0.49)\n",
      "0.51(0.50) & 0.51(0.50) & 0.51(0.50)\n",
      "54815.70(22027.32) & 54763.17(22074.82) & 54921.09(21932.01)\n",
      "2.43(0.38) & 2.43(0.38) & 2.43(0.38)\n",
      "2.47(1.96) & 2.48(1.97) & 2.45(1.95)\n",
      "1.50(1.16) & 1.50(1.16) & 1.50(1.15)\n"
     ]
    }
   ],
   "source": [
    "activities = [\n",
    "    \"freq\", \"years\", \"hpa\", \"mrm2\", \"dormant\"\n",
    "]\n",
    "census = [\n",
    "    \"female\", \"couple\"\n",
    "]\n",
    "county = [\n",
    "    \"red0\", \"redcty\"\n",
    "]\n",
    "income = [\n",
    "    \"median_hhincome\", \"ave_hh_sz\"\n",
    "]\n",
    "legal = [\n",
    "    \"nonlit\", \"cases\"\n",
    "]\n",
    "\n",
    "subgroups_fields = [\n",
    "    activities, census, county, income, legal\n",
    "]\n",
    "\n",
    "for field in subgroups_fields:\n",
    "    mean_all = df[field].mean()\n",
    "    mean_t = treatment[field].mean()\n",
    "    mean_c = control[field].mean()\n",
    "\n",
    "    std_all = df[field].std()\n",
    "    std_t = treatment[field].std()\n",
    "    std_c = control[field].std()\n",
    "\n",
    "    for i in range(len(field)):\n",
    "        print(\"{:.2f}({:.2f}) & {:.2f}({:.2f}) & {:.2f}({:.2f})\".format(\n",
    "            mean_all[i], std_all[i], mean_t[i], std_t[i], mean_c[i], std_c[i]\n",
    "        ))"
   ]
  },
  {
   "cell_type": "markdown",
   "metadata": {},
   "source": [
    "## Distribution of all outcomes"
   ]
  },
  {
   "cell_type": "code",
   "execution_count": 262,
   "metadata": {},
   "outputs": [],
   "source": [
    "def generate_pdf(all, t, c, xlabel, xlim, bins = 500):\n",
    "    \"\"\"Plot the pdf of all/treatment/control samples.\"\"\"\n",
    "    min = all.min()\n",
    "    max = all.max()\n",
    "\n",
    "    print(\"{}, {}\".format(min, max))\n",
    "\n",
    "    hist_all = np.histogram(all, bins=bins)\n",
    "    hist_dict_all = rv_histogram(hist_all)\n",
    "    hist_t = np.histogram(t, bins=bins)\n",
    "    hist_dict_t = rv_histogram(hist_t)\n",
    "    hist_c = np.histogram(c, bins=bins)\n",
    "    hist_dict_c = rv_histogram(hist_c)\n",
    "\n",
    "    x = np.linspace(min, max, 1000)\n",
    "    fig, ax = plt.subplots(figsize=(8, 8))\n",
    "    if min >= 0:\n",
    "        ax.semilogx(x, hist_dict_all.cdf(x), label=\"All\", linewidth = 6)\n",
    "        ax.semilogx(x, hist_dict_t.cdf(x), label=\"Treatment\", linewidth = 6)\n",
    "        ax.semilogx(x, hist_dict_c.cdf(x), label=\"Control\", linewidth = 6)\n",
    "    else:\n",
    "        ax.plot(x, hist_dict_all.cdf(x), label=\"All\", linewidth = 6)\n",
    "        ax.plot(x, hist_dict_t.cdf(x), label=\"Treatment\", linewidth = 6)\n",
    "        ax.plot(x, hist_dict_c.cdf(x), label=\"Control\", linewidth = 6)\n",
    "\n",
    "    # ax.set_xlabel(xlabel + \"\", fontsize=40)\n",
    "    ax.set_ylabel(\"CDF\", fontsize=40)\n",
    "    plt.xticks(fontsize=40)\n",
    "    plt.yticks(fontsize=40)\n",
    "    if min < 0:\n",
    "        ax.set_xlim([-1500, 275])\n",
    "        plt.xticks([-1500, -500, 0, 275], fontsize=40)\n",
    "    ax.grid(True)\n",
    "    ax.legend(fontsize=40)\n",
    "\n",
    "    fig.tight_layout() \n",
    "\n",
    "    return fig, ax\n"
   ]
  },
  {
   "cell_type": "code",
   "execution_count": null,
   "metadata": {},
   "outputs": [],
   "source": [
    "xlim = [0, 50]\n",
    "\n",
    "# For w/o matching\n",
    "amount_all = df.amount\n",
    "amount_t = treatment.amount\n",
    "amount_c = control.amount\n",
    "fig, ax = generate_pdf(amount_all, amount_t, amount_c, \"\", xlim)\n",
    "fig.savefig(\"./proposal/report/amount.pdf\")\n",
    "fig.savefig(\"./proposal/report/amount.png\")\n",
    "\n",
    "# For matching\n",
    "ratio_all = df.ratio.copy()\n",
    "ratio_all[ratio_all == \"Control\"] = 0\n",
    "amount_matching_all = df.amount * (ratio_all.astype(\"int32\") + 1)\n",
    "amount_matching_t = df.amount[df.treatment == 1]\n",
    "amount_matching_c = df.amount[df.treatment == 0]\n",
    "fig, ax = generate_pdf(amount_matching_all, amount_matching_t, amount_matching_c, \"\", xlim)\n",
    "fig.savefig(\"./proposal/report/amount_matching.pdf\")\n",
    "fig.savefig(\"./proposal/report/amount_matching.png\")\n",
    "\n",
    "# For amountchange\n",
    "amount_change_all = df.amountchange\n",
    "amount_change_t = treatment.amountchange\n",
    "amount_change_c = control.amountchange\n",
    "fig, ax = generate_pdf(amount_change_all, amount_change_t, amount_change_c, \"\", [-1500, 0])\n",
    "fig.savefig(\"./proposal/report/amount_change.pdf\")\n",
    "fig.savefig(\"./proposal/report/amount_change.png\")"
   ]
  },
  {
   "cell_type": "markdown",
   "metadata": {},
   "source": [
    "# Permutation testing for ratio and amount w/o matching"
   ]
  },
  {
   "cell_type": "code",
   "execution_count": 153,
   "metadata": {},
   "outputs": [],
   "source": [
    "def permutation_test(X, Y, B = 1000000):\n",
    "    \"\"\"Permutation test using random shuffling\n",
    "\n",
    "    Parameters:\n",
    "    - X: Samples from distribution 1\n",
    "    - Y: Samples from distributino 2\n",
    "    - B: Number of simulations. Default: 1,000,000\n",
    "    \"\"\"\n",
    "    diff_hat = X.mean() - Y.mean()\n",
    "\n",
    "    full_series = np.concatenate([X, Y])\n",
    "    nx = len(X)\n",
    "    diff_boot_count = 0\n",
    "    for i in tqdm(range(B)):\n",
    "        np.random.shuffle(full_series)\n",
    "        xx, yy = full_series[:nx], full_series[nx:]\n",
    "        diff_boot = xx.mean() - yy.mean()\n",
    "        if diff_boot > diff_hat:\n",
    "            diff_boot_count += 1\n",
    "            \n",
    "    p_value_perm = diff_boot_count / B\n",
    "    return p_value_perm\n",
    "   "
   ]
  },
  {
   "cell_type": "code",
   "execution_count": 154,
   "metadata": {},
   "outputs": [
    {
     "data": {
      "application/vnd.jupyter.widget-view+json": {
       "model_id": "9c4b7fb99dfc4de796a3def1fa4acefc",
       "version_major": 2,
       "version_minor": 0
      },
      "text/plain": [
       "  0%|          | 0/1000000 [00:00<?, ?it/s]"
      ]
     },
     "metadata": {},
     "output_type": "display_data"
    },
    {
     "name": "stdout",
     "output_type": "stream",
     "text": [
      "Permutation test p-value: \t\t0.000453\n"
     ]
    }
   ],
   "source": [
    "X = [0.225, 0.262, 0.217, 0.240, 0.230, 0.229, 0.235, 0.217]\n",
    "Y = [0.209, 0.205, 0.196, 0.210, 0.202, 0.207, 0.224, 0.223, 0.220, 0.201]\n",
    "\n",
    "X = np.array(X)\n",
    "Y = np.array(Y)\n",
    "\n",
    "p = permutation_test(X, Y)\n",
    "print('Permutation test p-value: \\t\\t{}'.format(p))"
   ]
  },
  {
   "cell_type": "markdown",
   "metadata": {},
   "source": [
    "## Multiple outcomes (Wald, permutation)"
   ]
  },
  {
   "cell_type": "code",
   "execution_count": 155,
   "metadata": {},
   "outputs": [
    {
     "name": "stdout",
     "output_type": "stream",
     "text": [
      "Wald, reponse rate, treatment v. control: p=0.001329835351778485\n"
     ]
    },
    {
     "data": {
      "application/vnd.jupyter.widget-view+json": {
       "model_id": "a38f9074f90246ad8894a441c400644d",
       "version_major": 2,
       "version_minor": 0
      },
      "text/plain": [
       "  0%|          | 0/1000000 [00:00<?, ?it/s]"
      ]
     },
     "metadata": {},
     "output_type": "display_data"
    },
    {
     "name": "stdout",
     "output_type": "stream",
     "text": [
      "Permutation, reponse rate, treatment v. control: p=0.000806\n"
     ]
    }
   ],
   "source": [
    "# reponse rate\n",
    "mean_t = treatment.gave.mean()\n",
    "std_t = treatment.gave.std()\n",
    "n_t = len(treatment)\n",
    "mean_c = control.gave.mean()\n",
    "std_c = control.gave.std()\n",
    "n_c = len(control)\n",
    "\n",
    "w = (mean_t - mean_c) / np.sqrt( std_t**2 / n_t + std_c**2 / n_c )\n",
    "p = 2 * norm.cdf(-np.abs(w))\n",
    "print(\"Wald, reponse rate, treatment v. control: p={}\".format(p))\n",
    "\n",
    "p_perm = permutation_test(treatment.gave, control.gave)\n",
    "print(\"Permutation, reponse rate, treatment v. control: p={}\".format(p_perm))"
   ]
  },
  {
   "cell_type": "code",
   "execution_count": null,
   "metadata": {},
   "outputs": [],
   "source": [
    "# dollars w/o matching, tested below."
   ]
  },
  {
   "cell_type": "code",
   "execution_count": 156,
   "metadata": {},
   "outputs": [
    {
     "name": "stdout",
     "output_type": "stream",
     "text": [
      "Wald, dollars w matching, treatment v. control: p=2.0037306671094484e-38\n"
     ]
    },
    {
     "data": {
      "application/vnd.jupyter.widget-view+json": {
       "model_id": "4762c95f2d564280b53b97f0948a9975",
       "version_major": 2,
       "version_minor": 0
      },
      "text/plain": [
       "  0%|          | 0/1000000 [00:00<?, ?it/s]"
      ]
     },
     "metadata": {},
     "output_type": "display_data"
    },
    {
     "name": "stdout",
     "output_type": "stream",
     "text": [
      "Permutation, dollars w matching, treatment v. control: p=0.0\n"
     ]
    }
   ],
   "source": [
    "# dollars w matching\n",
    "amount_matching = treatment.amount * (treatment.ratio.astype(\"int32\") + 1)\n",
    "mean_t = amount_matching.mean()\n",
    "std_t = amount_matching.std()\n",
    "n_t = len(treatment)\n",
    "mean_c = control.amount.mean()\n",
    "std_c = control.amount.std()\n",
    "n_c = len(control)\n",
    "\n",
    "w = (mean_t - mean_c) / np.sqrt( std_t**2 / n_t + std_c**2 / n_c )\n",
    "p = 2 * norm.cdf(-np.abs(w))\n",
    "print(\"Wald, dollars w matching, treatment v. control: p={}\".format(p))\n",
    "\n",
    "p_perm = permutation_test(amount_matching, control.amount)\n",
    "print(\"Permutation, dollars w matching, treatment v. control: p={}\".format(p_perm))"
   ]
  },
  {
   "cell_type": "code",
   "execution_count": 157,
   "metadata": {},
   "outputs": [
    {
     "name": "stdout",
     "output_type": "stream",
     "text": [
      "Wald, amount change, treatment v. control: p=0.6374132289734216\n"
     ]
    },
    {
     "data": {
      "application/vnd.jupyter.widget-view+json": {
       "model_id": "0bfd4cd759df4a5b9f48c23e140b83a1",
       "version_major": 2,
       "version_minor": 0
      },
      "text/plain": [
       "  0%|          | 0/1000000 [00:00<?, ?it/s]"
      ]
     },
     "metadata": {},
     "output_type": "display_data"
    },
    {
     "name": "stdout",
     "output_type": "stream",
     "text": [
      "Permutation, amount change, treatment v. control: p=0.225348\n"
     ]
    }
   ],
   "source": [
    "# amount change\n",
    "mean_t = treatment.amountchange.mean()\n",
    "std_t = treatment.amountchange.std()\n",
    "n_t = len(treatment)\n",
    "mean_c = control.amountchange.mean()\n",
    "std_c = control.amountchange.std()\n",
    "n_c = len(control)\n",
    "\n",
    "w = (mean_t - mean_c) / np.sqrt( std_t**2 / n_t + std_c**2 / n_c )\n",
    "p = 2 * norm.cdf(-np.abs(w))\n",
    "print(\"Wald, amount change, treatment v. control: p={}\".format(p))\n",
    "\n",
    "p_perm = permutation_test(treatment.amountchange, control.amountchange)\n",
    "print(\"Permutation, amount change, treatment v. control: p={}\".format(p_perm))"
   ]
  },
  {
   "cell_type": "markdown",
   "metadata": {},
   "source": [
    "## Multiple subgroups (Wald, permutation)"
   ]
  },
  {
   "cell_type": "code",
   "execution_count": 132,
   "metadata": {},
   "outputs": [
    {
     "name": "stdout",
     "output_type": "stream",
     "text": [
      "red_state_red_county: 13675\n",
      "red_state_blue_county: 6553\n",
      "blue_state_red_county: 11826\n",
      "blue_state_blue_county: 17872\n"
     ]
    }
   ],
   "source": [
    "red_state_red_county = df[(df.red0 == 1) & (df.redcty == 1)]\n",
    "red_state_blue_county = df[(df.red0 == 1) & (df.bluecty == 1)]\n",
    "blue_state_red_county = df[(df.blue0 == 1) & (df.redcty == 1)]\n",
    "blue_state_blue_county = df[(df.blue0 == 1) & (df.bluecty == 1)]\n",
    "\n",
    "subgroups = [\n",
    "    red_state_red_county, red_state_blue_county, blue_state_red_county, blue_state_blue_county\n",
    "]\n",
    "groupnames = [\n",
    "    \"red_state_red_county\", \"red_state_blue_county\", \"blue_state_red_county\", \"blue_state_blue_county\"\n",
    "]\n",
    "\n",
    "print(\"red_state_red_county: {}\".format(len(red_state_red_county)))\n",
    "print(\"red_state_blue_county: {}\".format(len(red_state_blue_county)))\n",
    "print(\"blue_state_red_county: {}\".format(len(blue_state_red_county)))\n",
    "print(\"blue_state_blue_county: {}\".format(len(blue_state_blue_county)))"
   ]
  },
  {
   "cell_type": "code",
   "execution_count": 140,
   "metadata": {},
   "outputs": [
    {
     "name": "stdout",
     "output_type": "stream",
     "text": [
      "Wald red_state_red_county: p = 6.884771853520811e-05\n"
     ]
    },
    {
     "name": "stderr",
     "output_type": "stream",
     "text": [
      "/var/folders/w7/2ydh37z114v16ythfkxw50gc0000gn/T/ipykernel_9563/956327853.py:14: TqdmDeprecationWarning: This function will be removed in tqdm==5.0.0\n",
      "Please use `tqdm.notebook.tqdm` instead of `tqdm.tqdm_notebook`\n",
      "  for i in tqdm_notebook(range(B)):\n"
     ]
    },
    {
     "data": {
      "application/vnd.jupyter.widget-view+json": {
       "model_id": "d97b419ed78844d0929f6c3552a2f96e",
       "version_major": 2,
       "version_minor": 0
      },
      "text/plain": [
       "  0%|          | 0/1000000 [00:00<?, ?it/s]"
      ]
     },
     "metadata": {},
     "output_type": "display_data"
    },
    {
     "name": "stdout",
     "output_type": "stream",
     "text": [
      "Permutation red_state_red_county: p = 5.4e-05\n",
      "Wald red_state_blue_county: p = 0.03865109115304174\n"
     ]
    },
    {
     "data": {
      "application/vnd.jupyter.widget-view+json": {
       "model_id": "ab0d8280a6fb49b9a893b43511582536",
       "version_major": 2,
       "version_minor": 0
      },
      "text/plain": [
       "  0%|          | 0/1000000 [00:00<?, ?it/s]"
      ]
     },
     "metadata": {},
     "output_type": "display_data"
    },
    {
     "name": "stdout",
     "output_type": "stream",
     "text": [
      "Permutation red_state_blue_county: p = 0.019215\n",
      "Wald blue_state_red_county: p = 0.9935304538956141\n"
     ]
    },
    {
     "data": {
      "application/vnd.jupyter.widget-view+json": {
       "model_id": "b57a86dbc2a647d3b44c83617805a12b",
       "version_major": 2,
       "version_minor": 0
      },
      "text/plain": [
       "  0%|          | 0/1000000 [00:00<?, ?it/s]"
      ]
     },
     "metadata": {},
     "output_type": "display_data"
    },
    {
     "name": "stdout",
     "output_type": "stream",
     "text": [
      "Permutation blue_state_red_county: p = 0.478773\n",
      "Wald blue_state_blue_county: p = 0.4898967002242357\n"
     ]
    },
    {
     "data": {
      "application/vnd.jupyter.widget-view+json": {
       "model_id": "af81eba3a51e4aa5bcbba2e2d5539ccc",
       "version_major": 2,
       "version_minor": 0
      },
      "text/plain": [
       "  0%|          | 0/1000000 [00:00<?, ?it/s]"
      ]
     },
     "metadata": {},
     "output_type": "display_data"
    },
    {
     "name": "stdout",
     "output_type": "stream",
     "text": [
      "Permutation blue_state_blue_county: p = 0.230464\n"
     ]
    }
   ],
   "source": [
    "for i, subgroup_df in enumerate(subgroups):\n",
    "    # Wald test\n",
    "    treatment_ = subgroup_df[subgroup_df.treatment == 1].gave\n",
    "    mean_subgroup_t = treatment_.mean()\n",
    "    std_subgroup_t = treatment_.std()\n",
    "    n_subgroup_t = len(treatment_)\n",
    "\n",
    "    control_ = subgroup_df[subgroup_df.treatment == 0].gave\n",
    "    mean_subgroup_c = control_.mean()\n",
    "    std_subgroup_c = control_.std()\n",
    "    n_subgroup_c = len(control_)\n",
    "\n",
    "    w = (mean_subgroup_t - mean_subgroup_c) / np.sqrt( std_subgroup_t**2 / n_subgroup_t + std_subgroup_c**2 / n_subgroup_c )\n",
    "    p = 2 * norm.cdf(-np.abs(w))\n",
    "    print(\"Wald {}: p = {}\".format(groupnames[i], p))\n",
    "\n",
    "    # permutation test\n",
    "    p_perm = permutation_test(treatment_, control_)\n",
    "    print(\"Permutation {}: p = {}\".format(groupnames[i], p_perm))\n"
   ]
  },
  {
   "cell_type": "markdown",
   "metadata": {},
   "source": [
    "## Multiple treatments (ratio) on amount w/o matching (Wald, permutation)"
   ]
  },
  {
   "cell_type": "code",
   "execution_count": 123,
   "metadata": {},
   "outputs": [
    {
     "name": "stdout",
     "output_type": "stream",
     "text": [
      "Wald on treatment v. control: 0.05507771611574072\n"
     ]
    },
    {
     "name": "stderr",
     "output_type": "stream",
     "text": [
      "/var/folders/w7/2ydh37z114v16ythfkxw50gc0000gn/T/ipykernel_9563/956327853.py:14: TqdmDeprecationWarning: This function will be removed in tqdm==5.0.0\n",
      "Please use `tqdm.notebook.tqdm` instead of `tqdm.tqdm_notebook`\n",
      "  for i in tqdm_notebook(range(B)):\n"
     ]
    },
    {
     "data": {
      "application/vnd.jupyter.widget-view+json": {
       "model_id": "d6bf5ad152e9424cb0ad3b6f9a3a1f74",
       "version_major": 2,
       "version_minor": 0
      },
      "text/plain": [
       "  0%|          | 0/1000000 [00:00<?, ?it/s]"
      ]
     },
     "metadata": {},
     "output_type": "display_data"
    },
    {
     "name": "stdout",
     "output_type": "stream",
     "text": [
      "Permutation on treatment v. control: 0.05507771611574072\n"
     ]
    }
   ],
   "source": [
    "mean_t = treatment.amount.mean()\n",
    "std_t = treatment.amount.std()\n",
    "n_t = len(treatment)\n",
    "\n",
    "mean_c = control.amount.mean()\n",
    "std_c = control.amount.std()\n",
    "n_c = len(control)\n",
    "\n",
    "w = (mean_t - mean_c) / np.sqrt( std_t**2 / n_t + std_c**2 / n_c )\n",
    "p = 2 * norm.cdf(-np.abs(w))\n",
    "print(\"Wald on treatment v. control: {}\".format(p))\n",
    "\n",
    "p_perm = permutation_test(treatment.amount, control.amount)\n",
    "print(\"Permutation on treatment v. control: {}\".format(p_perm))"
   ]
  },
  {
   "cell_type": "code",
   "execution_count": 128,
   "metadata": {},
   "outputs": [
    {
     "name": "stdout",
     "output_type": "stream",
     "text": [
      "Wald, Ratio 1:1 vs 2:1, p-value = 0.47538635630952153\n"
     ]
    },
    {
     "name": "stderr",
     "output_type": "stream",
     "text": [
      "/var/folders/w7/2ydh37z114v16ythfkxw50gc0000gn/T/ipykernel_9563/956327853.py:14: TqdmDeprecationWarning: This function will be removed in tqdm==5.0.0\n",
      "Please use `tqdm.notebook.tqdm` instead of `tqdm.tqdm_notebook`\n",
      "  for i in tqdm_notebook(range(B)):\n"
     ]
    },
    {
     "data": {
      "application/vnd.jupyter.widget-view+json": {
       "model_id": "ef34fd3e97bf4702a1368436467fd6f2",
       "version_major": 2,
       "version_minor": 0
      },
      "text/plain": [
       "  0%|          | 0/1000000 [00:00<?, ?it/s]"
      ]
     },
     "metadata": {},
     "output_type": "display_data"
    },
    {
     "name": "stdout",
     "output_type": "stream",
     "text": [
      "Permutation, Ratio 1:1 vs 2:1, p-value = 0.760996\n",
      "Wald, Ratio 1:1 vs 3:1, p-value = 0.9923973757232734\n"
     ]
    },
    {
     "data": {
      "application/vnd.jupyter.widget-view+json": {
       "model_id": "a5fcfc5408734ccaa0fd6f31b8cc3e19",
       "version_major": 2,
       "version_minor": 0
      },
      "text/plain": [
       "  0%|          | 0/1000000 [00:00<?, ?it/s]"
      ]
     },
     "metadata": {},
     "output_type": "display_data"
    },
    {
     "name": "stdout",
     "output_type": "stream",
     "text": [
      "Permutation, Ratio 1:1 vs 3:1, p-value = 0.503898\n",
      "Wald, Ratio 2:1 vs 3:1, p-value = 0.45227216051365493\n"
     ]
    },
    {
     "data": {
      "application/vnd.jupyter.widget-view+json": {
       "model_id": "1f916c32001b4121a343b677044ea66c",
       "version_major": 2,
       "version_minor": 0
      },
      "text/plain": [
       "  0%|          | 0/1000000 [00:00<?, ?it/s]"
      ]
     },
     "metadata": {},
     "output_type": "display_data"
    },
    {
     "name": "stdout",
     "output_type": "stream",
     "text": [
      "Permutation, Ratio 2:1 vs 3:1, p-value = 0.226755\n"
     ]
    }
   ],
   "source": [
    "mean_t = []\n",
    "std_t = []\n",
    "n_t = []\n",
    "for r in range(1, 4):\n",
    "    df_t = treatment[treatment.ratio == str(r)]\n",
    "    mean_t.append(df_t.amount.mean())\n",
    "    std_t.append(df_t.amount.std())\n",
    "    n_t.append(len(df_t))\n",
    "\n",
    "comb = [(0, 1), (0, 2), (1, 2)]\n",
    "for i, j in comb:\n",
    "    w = (mean_t[i] - mean_t[j]) / np.sqrt( std_t[i]**2 / n_t[i] + std_t[j]**2 / n_t[j] )\n",
    "    p = 2 * norm.cdf(-np.abs(w))\n",
    "    print(\"Wald, Ratio {}:1 vs {}:1, p-value = {}\".format(\n",
    "        i + 1, j + 1, p\n",
    "    ))\n",
    "\n",
    "    p_perm = permutation_test(treatment[treatment.ratio == str(i + 1)].amount, treatment[treatment.ratio == str(j + 1)].amount)\n",
    "    print(\"Permutation, Ratio {}:1 vs {}:1, p-value = {}\".format(\n",
    "        i + 1, j + 1, p_perm\n",
    "    ))"
   ]
  },
  {
   "cell_type": "code",
   "execution_count": 265,
   "metadata": {},
   "outputs": [
    {
     "name": "stdout",
     "output_type": "stream",
     "text": [
      "Difference : -0.12340693747322684\n",
      "Wald, Control vs 1:1, p-value = 0.2567913553455671\n"
     ]
    },
    {
     "data": {
      "application/vnd.jupyter.widget-view+json": {
       "model_id": "6d615701cfe149e19171a7337ad72919",
       "version_major": 2,
       "version_minor": 0
      },
      "text/plain": [
       "  0%|          | 0/1000000 [00:00<?, ?it/s]"
      ]
     },
     "metadata": {},
     "output_type": "display_data"
    },
    {
     "name": "stdout",
     "output_type": "stream",
     "text": [
      "Permutation,Control vs 1:1, p-value = 0.877033\n",
      "Difference : -0.2128683462435932\n",
      "Wald, Control vs 2:1, p-value = 0.050825483100076806\n"
     ]
    },
    {
     "data": {
      "application/vnd.jupyter.widget-view+json": {
       "model_id": "04cfc1b2faa3437db186ee68eb407b85",
       "version_major": 2,
       "version_minor": 0
      },
      "text/plain": [
       "  0%|          | 0/1000000 [00:00<?, ?it/s]"
      ]
     },
     "metadata": {},
     "output_type": "display_data"
    },
    {
     "name": "stdout",
     "output_type": "stream",
     "text": [
      "Permutation,Control vs 2:1, p-value = 0.976661\n",
      "Difference : -0.1245253397558187\n",
      "Wald, Control vs 3:1, p-value = 0.2118147535318512\n"
     ]
    },
    {
     "data": {
      "application/vnd.jupyter.widget-view+json": {
       "model_id": "c35bdd8d67d64fbab409476ae11b779c",
       "version_major": 2,
       "version_minor": 0
      },
      "text/plain": [
       "  0%|          | 0/1000000 [00:00<?, ?it/s]"
      ]
     },
     "metadata": {},
     "output_type": "display_data"
    },
    {
     "name": "stdout",
     "output_type": "stream",
     "text": [
      "Permutation,Control vs 3:1, p-value = 0.892891\n"
     ]
    }
   ],
   "source": [
    "mean_c = control.amount.mean()\n",
    "std_c = control.amount.std()\n",
    "n_c = len(control)\n",
    "\n",
    "mean_t = []\n",
    "std_t = []\n",
    "n_t = []\n",
    "for r in range(1, 4):\n",
    "    df_t = treatment[treatment.ratio == str(r)]\n",
    "    mean_t.append(df_t.amount.mean())\n",
    "    std_t.append(df_t.amount.std())\n",
    "    n_t.append(len(df_t))\n",
    "\n",
    "for i in range(len(mean_t)):\n",
    "    print(\"Difference : {}\".format(mean_c - mean_t[i]))\n",
    "\n",
    "    w = (mean_c - mean_t[i]) / np.sqrt( std_c**2 / n_c + std_t[i]**2 / n_t[i] )\n",
    "    p = 2 * norm.cdf(-np.abs(w))\n",
    "    print(\"Wald, Control vs {}:1, p-value = {}\".format(\n",
    "        i + 1, p\n",
    "    ))\n",
    "\n",
    "    p_perm = permutation_test(control.amount, treatment[treatment.ratio == str(i + 1)].amount)\n",
    "    print(\"Permutation,Control vs {}:1, p-value = {}\".format(\n",
    "        i + 1, p_perm\n",
    "    ))"
   ]
  },
  {
   "cell_type": "code",
   "execution_count": 267,
   "metadata": {},
   "outputs": [
    {
     "data": {
      "application/vnd.jupyter.widget-view+json": {
       "model_id": "84ef2a53e30b478298292fd7bcd27a19",
       "version_major": 2,
       "version_minor": 0
      },
      "text/plain": [
       "  0%|          | 0/1000000 [00:00<?, ?it/s]"
      ]
     },
     "metadata": {},
     "output_type": "display_data"
    },
    {
     "name": "stdout",
     "output_type": "stream",
     "text": [
      "Permutation, Control vs 3:1, p-value = 0.976454\n"
     ]
    }
   ],
   "source": [
    "p_perm = permutation_test(control.amount, treatment[treatment.ratio == '2'].amount)\n",
    "print(\"Permutation, Control vs {}:1, p-value = {}\".format(\n",
    "    i + 1, p_perm\n",
    "))"
   ]
  },
  {
   "cell_type": "markdown",
   "metadata": {},
   "source": [
    "## Correlation"
   ]
  },
  {
   "cell_type": "code",
   "execution_count": 276,
   "metadata": {},
   "outputs": [
    {
     "name": "stdout",
     "output_type": "stream",
     "text": [
      "                     gave    amount  amountmatching  amountchange      red0  \\\n",
      "gave             0.999979  0.723482        0.670970      0.005960  0.000881   \n",
      "amount           0.723482  0.999979        0.906327      0.005213  0.004619   \n",
      "amountmatching   0.670970  0.906327        0.999979      0.004854  0.008707   \n",
      "amountchange     0.005960  0.005213        0.004854      0.999979 -0.000793   \n",
      "red0             0.000881  0.004619        0.008707     -0.000793  0.999979   \n",
      "redcty           0.006353  0.001958        0.000681      0.007425  0.275841   \n",
      "female           0.005057 -0.006238       -0.006064      0.005072 -0.017212   \n",
      "median_hhincome -0.001072  0.014318        0.010945     -0.003566 -0.237587   \n",
      "treatment        0.015319  0.009104        0.044156      0.002413  0.009363   \n",
      "\n",
      "                   redcty    female  median_hhincome  treatment  \n",
      "gave             0.006353  0.005057        -0.001072   0.015319  \n",
      "amount           0.001958 -0.006238         0.014318   0.009104  \n",
      "amountmatching   0.000681 -0.006064         0.010945   0.044156  \n",
      "amountchange     0.007425  0.005072        -0.003566   0.002413  \n",
      "red0             0.275841 -0.017212        -0.237587   0.009363  \n",
      "redcty           0.999979  0.003290        -0.162026   0.003376  \n",
      "female           0.003290  0.999979         0.017055  -0.006404  \n",
      "median_hhincome -0.162026  0.017055         0.999979  -0.002440  \n",
      "treatment        0.003376 -0.006404        -0.002440   0.999979  \n"
     ]
    }
   ],
   "source": [
    "df_sub = df.copy()\n",
    "df_sub[\"amountmatching\"] = amount_matching_all\n",
    "\n",
    "fields_interested = [\n",
    "    \"gave\", \"amount\", \"amountmatching\", \"amountchange\",\n",
    "    \"red0\", \"redcty\", \"female\", \"median_hhincome\", \"treatment\"\n",
    "]\n",
    "df_sub = df_sub[fields_interested]\n",
    "df_sub = df_sub[~(df_sub.red0.isna() | df_sub.redcty.isna() | df_sub.female.isna() | df_sub.median_hhincome.isna())]\n",
    "\n",
    "normed = ((df_sub - df_sub.mean()) / df_sub.std()).values\n",
    "corr = np.matmul(normed.T, normed) / len(df_sub)\n",
    "\n",
    "corr_df = pd.DataFrame(corr, index=fields_interested, columns=fields_interested)\n",
    "\n",
    "print(corr_df)\n"
   ]
  },
  {
   "cell_type": "code",
   "execution_count": 301,
   "metadata": {},
   "outputs": [
    {
     "data": {
      "image/png": "[encoded data removed]",
      "text/plain": [
       "<Figure size 720x720 with 2 Axes>"
      ]
     },
     "metadata": {
      "needs_background": "light"
     },
     "output_type": "display_data"
    }
   ],
   "source": [
    "plt.figure(figsize=(10, 10))\n",
    "plt.imshow(corr, interpolation='nearest')\n",
    "plt.xticks(range(len(fields_interested)), fields_interested, rotation=45, fontsize=15)\n",
    "plt.yticks(range(len(fields_interested)), fields_interested, rotation=45, fontsize=15)\n",
    "\n",
    "plt.colorbar()\n",
    "plt.tight_layout()\n",
    "plt.savefig(\"./proposal/report/corr-heatmap.pdf\")\n",
    "plt.show()\n"
   ]
  },
  {
   "cell_type": "code",
   "execution_count": 8,
   "metadata": {},
   "outputs": [
    {
     "data": {
      "text/plain": [
       "array([5, 4, 3, 2, 1])"
      ]
     },
     "execution_count": 8,
     "metadata": {},
     "output_type": "execute_result"
    }
   ],
   "source": [
    "import numpy as np\n",
    "np.arange(5, 0, -1)"
   ]
  }
 ],
 "metadata": {
  "interpreter": {
   "hash": "aeed4005d6252c44a324f5892fd958e02585c2ce05b1bc90dd5fa4f774cff653"
  },
  "kernelspec": {
   "display_name": "Python 3.10.0 ('science')",
   "language": "python",
   "name": "python3"
  },
  "language_info": {
   "codemirror_mode": {
    "name": "ipython",
    "version": 3
   },
   "file_extension": ".py",
   "mimetype": "text/x-python",
   "name": "python",
   "nbconvert_exporter": "python",
   "pygments_lexer": "ipython3",
   "version": "3.10.0"
  },
  "orig_nbformat": 4
 },
 "nbformat": 4,
 "nbformat_minor": 2
}
