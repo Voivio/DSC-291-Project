{
 "cells": [
  {
   "cell_type": "code",
   "execution_count": 26,
   "metadata": {},
   "outputs": [],
   "source": [
    "import pandas as pd\n",
    "import numpy as np\n",
    "import matplotlib.pyplot as plt\n",
    "from scipy.stats import norm, rv_histogram\n",
    "\n",
    "from tqdm.notebook import tqdm\n"
   ]
  },
  {
   "cell_type": "code",
   "execution_count": 28,
   "metadata": {},
   "outputs": [
    {
     "name": "stdout",
     "output_type": "stream",
     "text": [
      "Index(['amount', 'freq', 'HPA', 'ask1', 'ask2', 'ask3', 'control', 'treatment',\n",
      "       'ask', 'ratio', 'size', 'gave', 'sizeno', 'years', 'couple', 'female',\n",
      "       'redcty', 'bluecty', 'askd1', 'askd2', 'askd3', 'cases', 'nonlit',\n",
      "       'ratio2', 'ratio3', 'size25', 'size50', 'size100', 'MRM2', 'dormant',\n",
      "       'ltmedMRA', 'red0', 'blue0', 'close25', 'amountchange'],\n",
      "      dtype='object')\n",
      "(50083, 35)\n",
      "Number of treatment: 33396\n",
      "Number of control: 16687\n"
     ]
    }
   ],
   "source": [
    "\n",
    "data_path = \"../data/data_econ.csv\"\n",
    "df = pd.read_csv(data_path)\n",
    "\n",
    "treatment = df.loc[df.treatment == 1]\n",
    "control = df.loc[df.treatment == 0]\n",
    "\n",
    "# printb basics about the dataframe\n",
    "print(df.keys())\n",
    "print(df.shape)\n",
    "\n",
    "print(\"Number of treatment: {}\".format(len(treatment)))\n",
    "print(\"Number of control: {}\".format(len(control)))"
   ]
  },
  {
   "cell_type": "code",
   "execution_count": 29,
   "outputs": [
    {
     "data": {
      "text/plain": "    amount  freq     HPA  ask1  ask2  ask3  control  treatment  ask  ratio  \\\n0      0.0    32   500.0   750   950  1125        0          1    1      1   \n3      0.0    29   250.0   500   625   750        0          1    3      3   \n4      0.0    17    50.0    55    70    85        0          1    3      2   \n5      0.0     4    25.0    35    45    55        0          1    1      1   \n7      0.0    20   300.0   500   625   750        0          1    1      2   \n8      0.0     8   100.0   125   160   190        0          1    3      3   \n9      0.0    14    50.0    55    70    85        0          1    2      1   \n10     0.0     8    50.0    55    70    85        0          1    1      2   \n12     0.0    14    35.0    45    60    70        0          1    1      3   \n13     0.0     5    90.0    25    35    50        0          1    2      1   \n14     0.0    24  1000.0  1500  1875  2250        0          1    3      1   \n16     0.0    26    50.0    55    70    85        0          1    1      3   \n17     0.0    31  1000.0  1500  1875  2250        0          1    3      1   \n18     0.0    19   250.0   500   625   750        0          1    2      2   \n19     0.0    10    45.0    55    70    85        0          1    2      3   \n20     0.0     5    55.0    65    85   100        0          1    1      3   \n23     0.0    27    75.0    85   110   130        0          1    3      1   \n24    40.0    41   100.0   125   160   190        0          1    1      2   \n25     0.0    27    75.0    85   110   130        0          1    1      1   \n28     0.0    20   100.0   125   160   190        0          1    1      3   \n\n    ...  size25  size50  size100  MRM2  dormant  ltmedMRA  red0  blue0  \\\n0   ...       1       0        0  19.0        1         0   1.0    0.0   \n3   ...       0       1        0   4.0        0         0   0.0    1.0   \n4   ...       0       0        0   8.0        1         0   0.0    1.0   \n5   ...       0       0        1  26.0        1         1   0.0    1.0   \n7   ...       0       0        1  11.0        1         0   1.0    0.0   \n8   ...       0       0        1  30.0        1         1   1.0    0.0   \n9   ...       0       0        1  17.0        1         0   1.0    0.0   \n10  ...       1       0        0   6.0        0         0   1.0    0.0   \n12  ...       0       0        0  30.0        1         1   0.0    1.0   \n13  ...       0       0        0  13.0        1         1   1.0    0.0   \n14  ...       0       0        1   5.0        0         0   1.0    0.0   \n16  ...       0       0        1  28.0        1         0   0.0    1.0   \n17  ...       0       1        0  27.0        1         1   0.0    1.0   \n18  ...       0       0        0   8.0        1         0   1.0    0.0   \n19  ...       0       1        0  27.0        1         0   1.0    0.0   \n20  ...       0       1        0   3.0        0         0   1.0    0.0   \n23  ...       1       0        0  22.0        1         1   1.0    0.0   \n24  ...       0       0        1   7.0        0         0   1.0    0.0   \n25  ...       1       0        0   2.0        0         0   1.0    0.0   \n28  ...       0       0        1   6.0        0         0   0.0    1.0   \n\n    close25  amountchange  \n0       0.0        -150.0  \n3       0.0         -50.0  \n4       0.0         -50.0  \n5       0.0          -5.0  \n7       0.0        -200.0  \n8       1.0         -25.0  \n9       0.0         -50.0  \n10      1.0         -50.0  \n12      1.0         -20.0  \n13      0.0         -25.0  \n14      0.0        -500.0  \n16      0.0         -40.0  \n17      0.0         -25.0  \n18      0.0        -250.0  \n19      0.0         -45.0  \n20      0.0         -55.0  \n23      1.0         -25.0  \n24      0.0         -20.0  \n25      0.0         -35.0  \n28      0.0         -50.0  \n\n[20 rows x 35 columns]",
      "text/html": "<div>\n<style scoped>\n    .dataframe tbody tr th:only-of-type {\n        vertical-align: middle;\n    }\n\n    .dataframe tbody tr th {\n        vertical-align: top;\n    }\n\n    .dataframe thead th {\n        text-align: right;\n    }\n</style>\n<table border=\"1\" class=\"dataframe\">\n  <thead>\n    <tr style=\"text-align: right;\">\n      <th></th>\n      <th>amount</th>\n      <th>freq</th>\n      <th>HPA</th>\n      <th>ask1</th>\n      <th>ask2</th>\n      <th>ask3</th>\n      <th>control</th>\n      <th>treatment</th>\n      <th>ask</th>\n      <th>ratio</th>\n      <th>...</th>\n      <th>size25</th>\n      <th>size50</th>\n      <th>size100</th>\n      <th>MRM2</th>\n      <th>dormant</th>\n      <th>ltmedMRA</th>\n      <th>red0</th>\n      <th>blue0</th>\n      <th>close25</th>\n      <th>amountchange</th>\n    </tr>\n  </thead>\n  <tbody>\n    <tr>\n      <th>0</th>\n      <td>0.0</td>\n      <td>32</td>\n      <td>500.0</td>\n      <td>750</td>\n      <td>950</td>\n      <td>1125</td>\n      <td>0</td>\n      <td>1</td>\n      <td>1</td>\n      <td>1</td>\n      <td>...</td>\n      <td>1</td>\n      <td>0</td>\n      <td>0</td>\n      <td>19.0</td>\n      <td>1</td>\n      <td>0</td>\n      <td>1.0</td>\n      <td>0.0</td>\n      <td>0.0</td>\n      <td>-150.0</td>\n    </tr>\n    <tr>\n      <th>3</th>\n      <td>0.0</td>\n      <td>29</td>\n      <td>250.0</td>\n      <td>500</td>\n      <td>625</td>\n      <td>750</td>\n      <td>0</td>\n      <td>1</td>\n      <td>3</td>\n      <td>3</td>\n      <td>...</td>\n      <td>0</td>\n      <td>1</td>\n      <td>0</td>\n      <td>4.0</td>\n      <td>0</td>\n      <td>0</td>\n      <td>0.0</td>\n      <td>1.0</td>\n      <td>0.0</td>\n      <td>-50.0</td>\n    </tr>\n    <tr>\n      <th>4</th>\n      <td>0.0</td>\n      <td>17</td>\n      <td>50.0</td>\n      <td>55</td>\n      <td>70</td>\n      <td>85</td>\n      <td>0</td>\n      <td>1</td>\n      <td>3</td>\n      <td>2</td>\n      <td>...</td>\n      <td>0</td>\n      <td>0</td>\n      <td>0</td>\n      <td>8.0</td>\n      <td>1</td>\n      <td>0</td>\n      <td>0.0</td>\n      <td>1.0</td>\n      <td>0.0</td>\n      <td>-50.0</td>\n    </tr>\n    <tr>\n      <th>5</th>\n      <td>0.0</td>\n      <td>4</td>\n      <td>25.0</td>\n      <td>35</td>\n      <td>45</td>\n      <td>55</td>\n      <td>0</td>\n      <td>1</td>\n      <td>1</td>\n      <td>1</td>\n      <td>...</td>\n      <td>0</td>\n      <td>0</td>\n      <td>1</td>\n      <td>26.0</td>\n      <td>1</td>\n      <td>1</td>\n      <td>0.0</td>\n      <td>1.0</td>\n      <td>0.0</td>\n      <td>-5.0</td>\n    </tr>\n    <tr>\n      <th>7</th>\n      <td>0.0</td>\n      <td>20</td>\n      <td>300.0</td>\n      <td>500</td>\n      <td>625</td>\n      <td>750</td>\n      <td>0</td>\n      <td>1</td>\n      <td>1</td>\n      <td>2</td>\n      <td>...</td>\n      <td>0</td>\n      <td>0</td>\n      <td>1</td>\n      <td>11.0</td>\n      <td>1</td>\n      <td>0</td>\n      <td>1.0</td>\n      <td>0.0</td>\n      <td>0.0</td>\n      <td>-200.0</td>\n    </tr>\n    <tr>\n      <th>8</th>\n      <td>0.0</td>\n      <td>8</td>\n      <td>100.0</td>\n      <td>125</td>\n      <td>160</td>\n      <td>190</td>\n      <td>0</td>\n      <td>1</td>\n      <td>3</td>\n      <td>3</td>\n      <td>...</td>\n      <td>0</td>\n      <td>0</td>\n      <td>1</td>\n      <td>30.0</td>\n      <td>1</td>\n      <td>1</td>\n      <td>1.0</td>\n      <td>0.0</td>\n      <td>1.0</td>\n      <td>-25.0</td>\n    </tr>\n    <tr>\n      <th>9</th>\n      <td>0.0</td>\n      <td>14</td>\n      <td>50.0</td>\n      <td>55</td>\n      <td>70</td>\n      <td>85</td>\n      <td>0</td>\n      <td>1</td>\n      <td>2</td>\n      <td>1</td>\n      <td>...</td>\n      <td>0</td>\n      <td>0</td>\n      <td>1</td>\n      <td>17.0</td>\n      <td>1</td>\n      <td>0</td>\n      <td>1.0</td>\n      <td>0.0</td>\n      <td>0.0</td>\n      <td>-50.0</td>\n    </tr>\n    <tr>\n      <th>10</th>\n      <td>0.0</td>\n      <td>8</td>\n      <td>50.0</td>\n      <td>55</td>\n      <td>70</td>\n      <td>85</td>\n      <td>0</td>\n      <td>1</td>\n      <td>1</td>\n      <td>2</td>\n      <td>...</td>\n      <td>1</td>\n      <td>0</td>\n      <td>0</td>\n      <td>6.0</td>\n      <td>0</td>\n      <td>0</td>\n      <td>1.0</td>\n      <td>0.0</td>\n      <td>1.0</td>\n      <td>-50.0</td>\n    </tr>\n    <tr>\n      <th>12</th>\n      <td>0.0</td>\n      <td>14</td>\n      <td>35.0</td>\n      <td>45</td>\n      <td>60</td>\n      <td>70</td>\n      <td>0</td>\n      <td>1</td>\n      <td>1</td>\n      <td>3</td>\n      <td>...</td>\n      <td>0</td>\n      <td>0</td>\n      <td>0</td>\n      <td>30.0</td>\n      <td>1</td>\n      <td>1</td>\n      <td>0.0</td>\n      <td>1.0</td>\n      <td>1.0</td>\n      <td>-20.0</td>\n    </tr>\n    <tr>\n      <th>13</th>\n      <td>0.0</td>\n      <td>5</td>\n      <td>90.0</td>\n      <td>25</td>\n      <td>35</td>\n      <td>50</td>\n      <td>0</td>\n      <td>1</td>\n      <td>2</td>\n      <td>1</td>\n      <td>...</td>\n      <td>0</td>\n      <td>0</td>\n      <td>0</td>\n      <td>13.0</td>\n      <td>1</td>\n      <td>1</td>\n      <td>1.0</td>\n      <td>0.0</td>\n      <td>0.0</td>\n      <td>-25.0</td>\n    </tr>\n    <tr>\n      <th>14</th>\n      <td>0.0</td>\n      <td>24</td>\n      <td>1000.0</td>\n      <td>1500</td>\n      <td>1875</td>\n      <td>2250</td>\n      <td>0</td>\n      <td>1</td>\n      <td>3</td>\n      <td>1</td>\n      <td>...</td>\n      <td>0</td>\n      <td>0</td>\n      <td>1</td>\n      <td>5.0</td>\n      <td>0</td>\n      <td>0</td>\n      <td>1.0</td>\n      <td>0.0</td>\n      <td>0.0</td>\n      <td>-500.0</td>\n    </tr>\n    <tr>\n      <th>16</th>\n      <td>0.0</td>\n      <td>26</td>\n      <td>50.0</td>\n      <td>55</td>\n      <td>70</td>\n      <td>85</td>\n      <td>0</td>\n      <td>1</td>\n      <td>1</td>\n      <td>3</td>\n      <td>...</td>\n      <td>0</td>\n      <td>0</td>\n      <td>1</td>\n      <td>28.0</td>\n      <td>1</td>\n      <td>0</td>\n      <td>0.0</td>\n      <td>1.0</td>\n      <td>0.0</td>\n      <td>-40.0</td>\n    </tr>\n    <tr>\n      <th>17</th>\n      <td>0.0</td>\n      <td>31</td>\n      <td>1000.0</td>\n      <td>1500</td>\n      <td>1875</td>\n      <td>2250</td>\n      <td>0</td>\n      <td>1</td>\n      <td>3</td>\n      <td>1</td>\n      <td>...</td>\n      <td>0</td>\n      <td>1</td>\n      <td>0</td>\n      <td>27.0</td>\n      <td>1</td>\n      <td>1</td>\n      <td>0.0</td>\n      <td>1.0</td>\n      <td>0.0</td>\n      <td>-25.0</td>\n    </tr>\n    <tr>\n      <th>18</th>\n      <td>0.0</td>\n      <td>19</td>\n      <td>250.0</td>\n      <td>500</td>\n      <td>625</td>\n      <td>750</td>\n      <td>0</td>\n      <td>1</td>\n      <td>2</td>\n      <td>2</td>\n      <td>...</td>\n      <td>0</td>\n      <td>0</td>\n      <td>0</td>\n      <td>8.0</td>\n      <td>1</td>\n      <td>0</td>\n      <td>1.0</td>\n      <td>0.0</td>\n      <td>0.0</td>\n      <td>-250.0</td>\n    </tr>\n    <tr>\n      <th>19</th>\n      <td>0.0</td>\n      <td>10</td>\n      <td>45.0</td>\n      <td>55</td>\n      <td>70</td>\n      <td>85</td>\n      <td>0</td>\n      <td>1</td>\n      <td>2</td>\n      <td>3</td>\n      <td>...</td>\n      <td>0</td>\n      <td>1</td>\n      <td>0</td>\n      <td>27.0</td>\n      <td>1</td>\n      <td>0</td>\n      <td>1.0</td>\n      <td>0.0</td>\n      <td>0.0</td>\n      <td>-45.0</td>\n    </tr>\n    <tr>\n      <th>20</th>\n      <td>0.0</td>\n      <td>5</td>\n      <td>55.0</td>\n      <td>65</td>\n      <td>85</td>\n      <td>100</td>\n      <td>0</td>\n      <td>1</td>\n      <td>1</td>\n      <td>3</td>\n      <td>...</td>\n      <td>0</td>\n      <td>1</td>\n      <td>0</td>\n      <td>3.0</td>\n      <td>0</td>\n      <td>0</td>\n      <td>1.0</td>\n      <td>0.0</td>\n      <td>0.0</td>\n      <td>-55.0</td>\n    </tr>\n    <tr>\n      <th>23</th>\n      <td>0.0</td>\n      <td>27</td>\n      <td>75.0</td>\n      <td>85</td>\n      <td>110</td>\n      <td>130</td>\n      <td>0</td>\n      <td>1</td>\n      <td>3</td>\n      <td>1</td>\n      <td>...</td>\n      <td>1</td>\n      <td>0</td>\n      <td>0</td>\n      <td>22.0</td>\n      <td>1</td>\n      <td>1</td>\n      <td>1.0</td>\n      <td>0.0</td>\n      <td>1.0</td>\n      <td>-25.0</td>\n    </tr>\n    <tr>\n      <th>24</th>\n      <td>40.0</td>\n      <td>41</td>\n      <td>100.0</td>\n      <td>125</td>\n      <td>160</td>\n      <td>190</td>\n      <td>0</td>\n      <td>1</td>\n      <td>1</td>\n      <td>2</td>\n      <td>...</td>\n      <td>0</td>\n      <td>0</td>\n      <td>1</td>\n      <td>7.0</td>\n      <td>0</td>\n      <td>0</td>\n      <td>1.0</td>\n      <td>0.0</td>\n      <td>0.0</td>\n      <td>-20.0</td>\n    </tr>\n    <tr>\n      <th>25</th>\n      <td>0.0</td>\n      <td>27</td>\n      <td>75.0</td>\n      <td>85</td>\n      <td>110</td>\n      <td>130</td>\n      <td>0</td>\n      <td>1</td>\n      <td>1</td>\n      <td>1</td>\n      <td>...</td>\n      <td>1</td>\n      <td>0</td>\n      <td>0</td>\n      <td>2.0</td>\n      <td>0</td>\n      <td>0</td>\n      <td>1.0</td>\n      <td>0.0</td>\n      <td>0.0</td>\n      <td>-35.0</td>\n    </tr>\n    <tr>\n      <th>28</th>\n      <td>0.0</td>\n      <td>20</td>\n      <td>100.0</td>\n      <td>125</td>\n      <td>160</td>\n      <td>190</td>\n      <td>0</td>\n      <td>1</td>\n      <td>1</td>\n      <td>3</td>\n      <td>...</td>\n      <td>0</td>\n      <td>0</td>\n      <td>1</td>\n      <td>6.0</td>\n      <td>0</td>\n      <td>0</td>\n      <td>0.0</td>\n      <td>1.0</td>\n      <td>0.0</td>\n      <td>-50.0</td>\n    </tr>\n  </tbody>\n</table>\n<p>20 rows × 35 columns</p>\n</div>"
     },
     "execution_count": 29,
     "metadata": {},
     "output_type": "execute_result"
    }
   ],
   "source": [
    "treatment.head(20)"
   ],
   "metadata": {
    "collapsed": false,
    "pycharm": {
     "name": "#%%\n"
    }
   }
  },
  {
   "cell_type": "code",
   "execution_count": 30,
   "metadata": {},
   "outputs": [],
   "source": [
    "# Add a dummy column for selecting all samples\n",
    "df[\"all\"] = 1"
   ]
  },
  {
   "cell_type": "code",
   "execution_count": 31,
   "metadata": {},
   "outputs": [
    {
     "name": "stdout",
     "output_type": "stream",
     "text": [
      "    ratio  amount  amountmatch\n",
      "24      2    40.0        120.0\n",
      "31      1    25.0         50.0\n",
      "51      1    25.0         50.0\n",
      "83      1    25.0         50.0\n",
      "88      3    15.0         60.0\n"
     ]
    }
   ],
   "source": [
    "# Add a new column amount_match as the fourth outcome column\n",
    "\n",
    "# Get all matching ratios\n",
    "ratio_all = df.ratio.copy()\n",
    "# Replace matching ratio in control group to 0\n",
    "# ratio_all[ratio_all == \"Control\"] = 0\n",
    "# Amount match = amount * (ratio + 1)\n",
    "df[\"amountmatch\"] = df[\"amount\"] * (ratio_all.astype(\"int32\") + 1)\n",
    "\n",
    "# Peek some examples\n",
    "print(df.loc[df[\"amount\"] > 0, [\"ratio\", \"amount\", \"amountmatch\"]].head())"
   ]
  },
  {
   "cell_type": "code",
   "execution_count": 32,
   "metadata": {},
   "outputs": [
    {
     "name": "stdout",
     "output_type": "stream",
     "text": [
      "The autoreload extension is already loaded. To reload it, use:\n",
      "  %reload_ext autoreload\n"
     ]
    }
   ],
   "source": [
    "%load_ext autoreload\n",
    "%autoreload 2\n",
    "\n",
    "from mhtexp import Index, MHT\n",
    "\n",
    "mht = MHT(B=3000)\n"
   ]
  },
  {
   "cell_type": "markdown",
   "metadata": {},
   "source": [
    "# Reproduce results"
   ]
  },
  {
   "cell_type": "markdown",
   "metadata": {},
   "source": [
    "## Multiple outcomes"
   ]
  },
  {
   "cell_type": "code",
   "execution_count": 34,
   "metadata": {},
   "outputs": [
    {
     "name": "stdout",
     "output_type": "stream",
     "text": [
      "Different treatments: 2, different subgroups : 1, different outcomes 4, compare pairs: 1\n"
     ]
    },
    {
     "data": {
      "text/plain": "  0%|          | 0/3000 [00:00<?, ?it/s]",
      "application/vnd.jupyter.widget-view+json": {
       "version_major": 2,
       "version_minor": 0,
       "model_id": "c5801b9179a64805be71e15a0bfa6536"
      }
     },
     "metadata": {},
     "output_type": "display_data"
    },
    {
     "name": "stdout",
     "output_type": "stream",
     "text": [
      "Check passed.\n"
     ]
    },
    {
     "data": {
      "text/plain": "                                  Hypotheses  Absolute Difference  \\\n0          Resp. Rate, Control vs. Treatment             0.004180   \n1              Amount, Control vs. Treatment             0.153605   \n2  Amount w/ matching, Control vs. Treatment             2.087613   \n3       Amount change, Control vs. Treatment             6.330584   \n\n   p (unadjusted)  p (adjusted)  p (Bonferroni)  p (Holm's)  \n0        0.002667      0.007000        0.010667    0.008000  \n1        0.053333      0.104667        0.213333    0.106667  \n2        0.000000      0.000000        0.000000    0.000000  \n3        0.721333      0.721333        1.000000    0.721333  ",
      "text/html": "<div>\n<style scoped>\n    .dataframe tbody tr th:only-of-type {\n        vertical-align: middle;\n    }\n\n    .dataframe tbody tr th {\n        vertical-align: top;\n    }\n\n    .dataframe thead th {\n        text-align: right;\n    }\n</style>\n<table border=\"1\" class=\"dataframe\">\n  <thead>\n    <tr style=\"text-align: right;\">\n      <th></th>\n      <th>Hypotheses</th>\n      <th>Absolute Difference</th>\n      <th>p (unadjusted)</th>\n      <th>p (adjusted)</th>\n      <th>p (Bonferroni)</th>\n      <th>p (Holm's)</th>\n    </tr>\n  </thead>\n  <tbody>\n    <tr>\n      <th>0</th>\n      <td>Resp. Rate, Control vs. Treatment</td>\n      <td>0.004180</td>\n      <td>0.002667</td>\n      <td>0.007000</td>\n      <td>0.010667</td>\n      <td>0.008000</td>\n    </tr>\n    <tr>\n      <th>1</th>\n      <td>Amount, Control vs. Treatment</td>\n      <td>0.153605</td>\n      <td>0.053333</td>\n      <td>0.104667</td>\n      <td>0.213333</td>\n      <td>0.106667</td>\n    </tr>\n    <tr>\n      <th>2</th>\n      <td>Amount w/ matching, Control vs. Treatment</td>\n      <td>2.087613</td>\n      <td>0.000000</td>\n      <td>0.000000</td>\n      <td>0.000000</td>\n      <td>0.000000</td>\n    </tr>\n    <tr>\n      <th>3</th>\n      <td>Amount change, Control vs. Treatment</td>\n      <td>6.330584</td>\n      <td>0.721333</td>\n      <td>0.721333</td>\n      <td>1.000000</td>\n      <td>0.721333</td>\n    </tr>\n  </tbody>\n</table>\n</div>"
     },
     "execution_count": 34,
     "metadata": {},
     "output_type": "execute_result"
    }
   ],
   "source": [
    "S = [\n",
    "    Index([(\"treatment\", 0)], [(\"treatment\", 1)], [(\"all\", 1)], \"gave\", \"Resp. Rate, Control vs. Treatment\"), \n",
    "    Index([(\"treatment\", 0)], [(\"treatment\", 1)], [(\"all\", 1)], \"amount\", \"Amount, Control vs. Treatment\"), \n",
    "    Index([(\"treatment\", 0)], [(\"treatment\", 1)], [(\"all\", 1)], \"amountmatch\", \"Amount w/ matching, Control vs. Treatment\"), \n",
    "    Index([(\"treatment\", 0)], [(\"treatment\", 1)], [(\"all\", 1)], \"amountchange\", \"Amount change, Control vs. Treatment\"), \n",
    "]\n",
    "\n",
    "output = mht.test(df, S)\n",
    "output.head(len(S))\n"
   ]
  },
  {
   "cell_type": "markdown",
   "metadata": {},
   "source": [
    "## Multiple subgroups"
   ]
  },
  {
   "cell_type": "code",
   "execution_count": 35,
   "metadata": {},
   "outputs": [
    {
     "name": "stdout",
     "output_type": "stream",
     "text": [
      "Different treatments: 2, different subgroups : 4, different outcomes 1, compare pairs: 1\n"
     ]
    },
    {
     "data": {
      "text/plain": "  0%|          | 0/3000 [00:00<?, ?it/s]",
      "application/vnd.jupyter.widget-view+json": {
       "version_major": 2,
       "version_minor": 0,
       "model_id": "13e40ab3c68b4526ae95f2313ec6cdd5"
      }
     },
     "metadata": {},
     "output_type": "display_data"
    },
    {
     "name": "stdout",
     "output_type": "stream",
     "text": [
      "Check passed.\n"
     ]
    },
    {
     "data": {
      "text/plain": "                    Hypotheses  Absolute Difference  p (unadjusted)  \\\n0    Red County in a Red State             0.009538        0.000000   \n1   Blue County in a Red State             0.007050        0.045667   \n2   Red County in a Blue State             0.000023        0.993000   \n3  Blue County in a Blue State             0.001495        0.484333   \n\n   p (adjusted)  p (Bonferroni)  p (Holm's)  \n0      0.000000        0.000000    0.000000  \n1      0.132667        0.182667    0.137000  \n2      0.993000        1.000000    0.993000  \n3      0.732667        1.000000    0.968667  ",
      "text/html": "<div>\n<style scoped>\n    .dataframe tbody tr th:only-of-type {\n        vertical-align: middle;\n    }\n\n    .dataframe tbody tr th {\n        vertical-align: top;\n    }\n\n    .dataframe thead th {\n        text-align: right;\n    }\n</style>\n<table border=\"1\" class=\"dataframe\">\n  <thead>\n    <tr style=\"text-align: right;\">\n      <th></th>\n      <th>Hypotheses</th>\n      <th>Absolute Difference</th>\n      <th>p (unadjusted)</th>\n      <th>p (adjusted)</th>\n      <th>p (Bonferroni)</th>\n      <th>p (Holm's)</th>\n    </tr>\n  </thead>\n  <tbody>\n    <tr>\n      <th>0</th>\n      <td>Red County in a Red State</td>\n      <td>0.009538</td>\n      <td>0.000000</td>\n      <td>0.000000</td>\n      <td>0.000000</td>\n      <td>0.000000</td>\n    </tr>\n    <tr>\n      <th>1</th>\n      <td>Blue County in a Red State</td>\n      <td>0.007050</td>\n      <td>0.045667</td>\n      <td>0.132667</td>\n      <td>0.182667</td>\n      <td>0.137000</td>\n    </tr>\n    <tr>\n      <th>2</th>\n      <td>Red County in a Blue State</td>\n      <td>0.000023</td>\n      <td>0.993000</td>\n      <td>0.993000</td>\n      <td>1.000000</td>\n      <td>0.993000</td>\n    </tr>\n    <tr>\n      <th>3</th>\n      <td>Blue County in a Blue State</td>\n      <td>0.001495</td>\n      <td>0.484333</td>\n      <td>0.732667</td>\n      <td>1.000000</td>\n      <td>0.968667</td>\n    </tr>\n  </tbody>\n</table>\n</div>"
     },
     "execution_count": 35,
     "metadata": {},
     "output_type": "execute_result"
    }
   ],
   "source": [
    "S = [\n",
    "    Index([(\"treatment\", 0)], [(\"treatment\", 1)], [(\"red0\", 1), (\"redcty\", 1)], \"gave\", \"Red County in a Red State\"), \n",
    "    Index([(\"treatment\", 0)], [(\"treatment\", 1)], [(\"red0\", 1), (\"bluecty\", 1)], \"gave\", \"Blue County in a Red State\"), \n",
    "    Index([(\"treatment\", 0)], [(\"treatment\", 1)], [(\"blue0\", 1), (\"redcty\", 1)], \"gave\", \"Red County in a Blue State\"), \n",
    "    Index([(\"treatment\", 0)], [(\"treatment\", 1)], [(\"blue0\", 1), (\"bluecty\", 1)], \"gave\", \"Blue County in a Blue State\"), \n",
    "]\n",
    "\n",
    "output = mht.test(df, S)\n",
    "output.head(len(S))\n"
   ]
  },
  {
   "cell_type": "markdown",
   "metadata": {},
   "source": [
    "## Multiple treatments"
   ]
  },
  {
   "cell_type": "code",
   "execution_count": 36,
   "metadata": {},
   "outputs": [
    {
     "name": "stdout",
     "output_type": "stream",
     "text": [
      "Different treatments: 4, different subgroups : 1, different outcomes 1, compare pairs: 6\n"
     ]
    },
    {
     "data": {
      "text/plain": "  0%|          | 0/3000 [00:00<?, ?it/s]",
      "application/vnd.jupyter.widget-view+json": {
       "version_major": 2,
       "version_minor": 0,
       "model_id": "2ab94e7f2ad542808a6c5c9e126d767a"
      }
     },
     "metadata": {},
     "output_type": "display_data"
    },
    {
     "name": "stdout",
     "output_type": "stream",
     "text": [
      "Check passed.\n"
     ]
    },
    {
     "data": {
      "text/plain": "       Hypotheses  Absolute Difference  p (unadjusted)  p (adjusted)  \\\n0  Control vs 1:1             0.123407        0.257667      0.581000   \n1  Control vs 2:1             0.212868        0.064333      0.246000   \n2  Control vs 3:1             0.124525        0.223333      0.582667   \n3      1:1 vs 2:1             0.089461        0.468000      0.674667   \n4      1:1 vs 3:1             0.001118        0.990333      0.990333   \n5      2:1 vs 3:1             0.088343        0.436000      0.707333   \n\n   p (Bonferroni)  p (Holm's)  \n0           1.000    1.000000  \n1           0.386    0.386000  \n2           1.000    1.000000  \n3           1.000    0.936000  \n4           1.000    0.990333  \n5           1.000    1.000000  ",
      "text/html": "<div>\n<style scoped>\n    .dataframe tbody tr th:only-of-type {\n        vertical-align: middle;\n    }\n\n    .dataframe tbody tr th {\n        vertical-align: top;\n    }\n\n    .dataframe thead th {\n        text-align: right;\n    }\n</style>\n<table border=\"1\" class=\"dataframe\">\n  <thead>\n    <tr style=\"text-align: right;\">\n      <th></th>\n      <th>Hypotheses</th>\n      <th>Absolute Difference</th>\n      <th>p (unadjusted)</th>\n      <th>p (adjusted)</th>\n      <th>p (Bonferroni)</th>\n      <th>p (Holm's)</th>\n    </tr>\n  </thead>\n  <tbody>\n    <tr>\n      <th>0</th>\n      <td>Control vs 1:1</td>\n      <td>0.123407</td>\n      <td>0.257667</td>\n      <td>0.581000</td>\n      <td>1.000</td>\n      <td>1.000000</td>\n    </tr>\n    <tr>\n      <th>1</th>\n      <td>Control vs 2:1</td>\n      <td>0.212868</td>\n      <td>0.064333</td>\n      <td>0.246000</td>\n      <td>0.386</td>\n      <td>0.386000</td>\n    </tr>\n    <tr>\n      <th>2</th>\n      <td>Control vs 3:1</td>\n      <td>0.124525</td>\n      <td>0.223333</td>\n      <td>0.582667</td>\n      <td>1.000</td>\n      <td>1.000000</td>\n    </tr>\n    <tr>\n      <th>3</th>\n      <td>1:1 vs 2:1</td>\n      <td>0.089461</td>\n      <td>0.468000</td>\n      <td>0.674667</td>\n      <td>1.000</td>\n      <td>0.936000</td>\n    </tr>\n    <tr>\n      <th>4</th>\n      <td>1:1 vs 3:1</td>\n      <td>0.001118</td>\n      <td>0.990333</td>\n      <td>0.990333</td>\n      <td>1.000</td>\n      <td>0.990333</td>\n    </tr>\n    <tr>\n      <th>5</th>\n      <td>2:1 vs 3:1</td>\n      <td>0.088343</td>\n      <td>0.436000</td>\n      <td>0.707333</td>\n      <td>1.000</td>\n      <td>1.000000</td>\n    </tr>\n  </tbody>\n</table>\n</div>"
     },
     "execution_count": 36,
     "metadata": {},
     "output_type": "execute_result"
    }
   ],
   "source": [
    "S = [\n",
    "    Index([(\"treatment\", 0)], [(\"ratio\", 1)], [(\"all\", 1)], \"amount\", \"Control vs 1:1\"), \n",
    "    Index([(\"treatment\", 0)], [(\"ratio\", 2)], [(\"all\", 1)], \"amount\", \"Control vs 2:1\"), \n",
    "    Index([(\"treatment\", 0)], [(\"ratio\", 3)], [(\"all\", 1)], \"amount\", \"Control vs 3:1\"), \n",
    "    Index([(\"ratio\", 1)], [(\"ratio\", 2)], [(\"all\", 1)], \"amount\", \"1:1 vs 2:1\"), \n",
    "    Index([(\"ratio\", 1)], [(\"ratio\", 3)], [(\"all\", 1)], \"amount\", \"1:1 vs 3:1\"), \n",
    "    Index([(\"ratio\", 2)], [(\"ratio\", 3)], [(\"all\", 1)], \"amount\", \"2:1 vs 3:1\"), \n",
    "]\n",
    "\n",
    "output = mht.test(df, S)\n",
    "output.head(len(S))\n"
   ]
  },
  {
   "cell_type": "markdown",
   "metadata": {},
   "source": [
    "## Multiple outcomes, subgroups, treatments"
   ]
  },
  {
   "cell_type": "code",
   "execution_count": 37,
   "metadata": {},
   "outputs": [
    {
     "name": "stdout",
     "output_type": "stream",
     "text": [
      "Con. v. 1:1, redcty in a red0, gave\n",
      "Con. v. 2:1, redcty in a red0, gave\n",
      "Con. v. 3:1, redcty in a red0, gave\n",
      "Con. v. 1:1, bluecty in a red0, gave\n",
      "Con. v. 2:1, bluecty in a red0, gave\n",
      "Con. v. 3:1, bluecty in a red0, gave\n",
      "Con. v. 1:1, redcty in a blue0, gave\n",
      "Con. v. 2:1, redcty in a blue0, gave\n",
      "Con. v. 3:1, redcty in a blue0, gave\n",
      "Con. v. 1:1, bluecty in a blue0, gave\n",
      "Con. v. 2:1, bluecty in a blue0, gave\n",
      "Con. v. 3:1, bluecty in a blue0, gave\n",
      "Con. v. 1:1, redcty in a red0, amount\n",
      "Con. v. 2:1, redcty in a red0, amount\n",
      "Con. v. 3:1, redcty in a red0, amount\n",
      "Con. v. 1:1, bluecty in a red0, amount\n",
      "Con. v. 2:1, bluecty in a red0, amount\n",
      "Con. v. 3:1, bluecty in a red0, amount\n",
      "Con. v. 1:1, redcty in a blue0, amount\n",
      "Con. v. 2:1, redcty in a blue0, amount\n",
      "Con. v. 3:1, redcty in a blue0, amount\n",
      "Con. v. 1:1, bluecty in a blue0, amount\n",
      "Con. v. 2:1, bluecty in a blue0, amount\n",
      "Con. v. 3:1, bluecty in a blue0, amount\n",
      "Con. v. 1:1, redcty in a red0, amountmatch\n",
      "Con. v. 2:1, redcty in a red0, amountmatch\n",
      "Con. v. 3:1, redcty in a red0, amountmatch\n",
      "Con. v. 1:1, bluecty in a red0, amountmatch\n",
      "Con. v. 2:1, bluecty in a red0, amountmatch\n",
      "Con. v. 3:1, bluecty in a red0, amountmatch\n",
      "Con. v. 1:1, redcty in a blue0, amountmatch\n",
      "Con. v. 2:1, redcty in a blue0, amountmatch\n",
      "Con. v. 3:1, redcty in a blue0, amountmatch\n",
      "Con. v. 1:1, bluecty in a blue0, amountmatch\n",
      "Con. v. 2:1, bluecty in a blue0, amountmatch\n",
      "Con. v. 3:1, bluecty in a blue0, amountmatch\n",
      "Con. v. 1:1, redcty in a red0, amountchange\n",
      "Con. v. 2:1, redcty in a red0, amountchange\n",
      "Con. v. 3:1, redcty in a red0, amountchange\n",
      "Con. v. 1:1, bluecty in a red0, amountchange\n",
      "Con. v. 2:1, bluecty in a red0, amountchange\n",
      "Con. v. 3:1, bluecty in a red0, amountchange\n",
      "Con. v. 1:1, redcty in a blue0, amountchange\n",
      "Con. v. 2:1, redcty in a blue0, amountchange\n",
      "Con. v. 3:1, redcty in a blue0, amountchange\n",
      "Con. v. 1:1, bluecty in a blue0, amountchange\n",
      "Con. v. 2:1, bluecty in a blue0, amountchange\n",
      "Con. v. 3:1, bluecty in a blue0, amountchange\n",
      "Different treatments: 4, different subgroups : 4, different outcomes 4, compare pairs: 3\n"
     ]
    },
    {
     "data": {
      "text/plain": "  0%|          | 0/3000 [00:00<?, ?it/s]",
      "application/vnd.jupyter.widget-view+json": {
       "version_major": 2,
       "version_minor": 0,
       "model_id": "99f9e6f8357d437996a67243375df6c7"
      }
     },
     "metadata": {},
     "output_type": "display_data"
    },
    {
     "name": "stdout",
     "output_type": "stream",
     "text": [
      "Check passed.\n"
     ]
    },
    {
     "data": {
      "text/plain": "                                       Hypotheses  Absolute Difference  \\\n0             Con. v. 1:1, redcty in a red0, gave             0.007932   \n1             Con. v. 2:1, redcty in a red0, gave             0.009990   \n2             Con. v. 3:1, redcty in a red0, gave             0.010669   \n3            Con. v. 1:1, bluecty in a red0, gave             0.002351   \n4            Con. v. 2:1, bluecty in a red0, gave             0.007966   \n5            Con. v. 3:1, bluecty in a red0, gave             0.010764   \n6            Con. v. 1:1, redcty in a blue0, gave             0.000639   \n7            Con. v. 2:1, redcty in a blue0, gave             0.002557   \n8            Con. v. 3:1, redcty in a blue0, gave             0.003179   \n9           Con. v. 1:1, bluecty in a blue0, gave             0.000333   \n10          Con. v. 2:1, bluecty in a blue0, gave             0.000759   \n11          Con. v. 3:1, bluecty in a blue0, gave             0.003425   \n12          Con. v. 1:1, redcty in a red0, amount             0.426028   \n13          Con. v. 2:1, redcty in a red0, amount             0.409711   \n14          Con. v. 3:1, redcty in a red0, amount             0.321357   \n15         Con. v. 1:1, bluecty in a red0, amount             0.037441   \n16         Con. v. 2:1, bluecty in a red0, amount             0.432470   \n17         Con. v. 3:1, bluecty in a red0, amount             0.572779   \n18         Con. v. 1:1, redcty in a blue0, amount             0.007431   \n19         Con. v. 2:1, redcty in a blue0, amount             0.037981   \n20         Con. v. 3:1, redcty in a blue0, amount             0.217250   \n21        Con. v. 1:1, bluecty in a blue0, amount             0.025519   \n22        Con. v. 2:1, bluecty in a blue0, amount             0.079574   \n23        Con. v. 3:1, bluecty in a blue0, amount             0.023565   \n24     Con. v. 1:1, redcty in a red0, amountmatch             1.504220   \n25     Con. v. 2:1, redcty in a red0, amountmatch             2.533463   \n26     Con. v. 3:1, redcty in a red0, amountmatch             3.241919   \n27    Con. v. 1:1, bluecty in a red0, amountmatch             0.837029   \n28    Con. v. 2:1, bluecty in a red0, amountmatch             2.821704   \n29    Con. v. 3:1, bluecty in a red0, amountmatch             4.577557   \n30    Con. v. 1:1, redcty in a blue0, amountmatch             0.996728   \n31    Con. v. 2:1, redcty in a blue0, amountmatch             2.137122   \n32    Con. v. 3:1, redcty in a blue0, amountmatch             2.165769   \n33   Con. v. 1:1, bluecty in a blue0, amountmatch             0.776651   \n34   Con. v. 2:1, bluecty in a blue0, amountmatch             1.894100   \n35   Con. v. 3:1, bluecty in a blue0, amountmatch             2.577329   \n36    Con. v. 1:1, redcty in a red0, amountchange             1.825249   \n37    Con. v. 2:1, redcty in a red0, amountchange             0.549103   \n38    Con. v. 3:1, redcty in a red0, amountchange             0.068082   \n39   Con. v. 1:1, bluecty in a red0, amountchange            92.322088   \n40   Con. v. 2:1, bluecty in a red0, amountchange            93.722685   \n41   Con. v. 3:1, bluecty in a red0, amountchange            94.264002   \n42   Con. v. 1:1, redcty in a blue0, amountchange             0.929446   \n43   Con. v. 2:1, redcty in a blue0, amountchange             0.293844   \n44   Con. v. 3:1, redcty in a blue0, amountchange             0.514729   \n45  Con. v. 1:1, bluecty in a blue0, amountchange            52.143796   \n46  Con. v. 2:1, bluecty in a blue0, amountchange             0.471408   \n47  Con. v. 3:1, bluecty in a blue0, amountchange             1.161360   \n\n    p (unadjusted)  p (adjusted)  p (Bonferroni)  p (Holm's)  \n0         0.016333      0.389667           0.784    0.571667  \n1         0.002667      0.090000           0.128    0.112000  \n2         0.003000      0.101000           0.144    0.123000  \n3         0.585333      1.000000           1.000    1.000000  \n4         0.083000      0.874667           1.000    1.000000  \n5         0.027667      0.549333           1.000    0.940667  \n6         0.876667      1.000000           1.000    1.000000  \n7         0.522000      1.000000           1.000    1.000000  \n8         0.360333      0.999667           1.000    1.000000  \n9         0.909667      0.999333           1.000    1.000000  \n10        0.784333      1.000000           1.000    1.000000  \n11        0.242000      0.993333           1.000    1.000000  \n12        0.088667      0.884667           1.000    1.000000  \n13        0.055667      0.785333           1.000    1.000000  \n14        0.076333      0.860333           1.000    1.000000  \n15        0.888000      1.000000           1.000    1.000000  \n16        0.165667      0.973667           1.000    1.000000  \n17        0.103667      0.911667           1.000    1.000000  \n18        0.976667      0.976667           1.000    0.976667  \n19        0.877000      1.000000           1.000    1.000000  \n20        0.295000      0.997333           1.000    1.000000  \n21        0.885000      1.000000           1.000    1.000000  \n22        0.649333      1.000000           1.000    1.000000  \n23        0.887333      1.000000           1.000    1.000000  \n24        0.010667      0.289667           0.512    0.394667  \n25        0.000667      0.025333           0.032    0.030000  \n26        0.000000      0.000000           0.000    0.000000  \n27        0.067333      0.827667           1.000    1.000000  \n28        0.007000      0.208000           0.336    0.273000  \n29        0.004333      0.137667           0.208    0.173333  \n30        0.014667      0.364667           0.704    0.528000  \n31        0.002333      0.080333           0.112    0.100333  \n32        0.000667      0.025000           0.032    0.029333  \n33        0.009667      0.267000           0.464    0.367333  \n34        0.000000      0.000000           0.000    0.000000  \n35        0.000000      0.000000           0.000    0.000000  \n36        0.122333      0.936667           1.000    1.000000  \n37        0.644333      1.000000           1.000    1.000000  \n38        0.957333      0.998333           1.000    1.000000  \n39        0.447333      1.000000           1.000    1.000000  \n40        0.447333      1.000000           1.000    1.000000  \n41        0.447333      1.000000           1.000    1.000000  \n42        0.457000      1.000000           1.000    1.000000  \n43        0.825333      1.000000           1.000    1.000000  \n44        0.675000      1.000000           1.000    1.000000  \n45        0.436000      1.000000           1.000    1.000000  \n46        0.658333      1.000000           1.000    1.000000  \n47        0.252667      0.994000           1.000    1.000000  ",
      "text/html": "<div>\n<style scoped>\n    .dataframe tbody tr th:only-of-type {\n        vertical-align: middle;\n    }\n\n    .dataframe tbody tr th {\n        vertical-align: top;\n    }\n\n    .dataframe thead th {\n        text-align: right;\n    }\n</style>\n<table border=\"1\" class=\"dataframe\">\n  <thead>\n    <tr style=\"text-align: right;\">\n      <th></th>\n      <th>Hypotheses</th>\n      <th>Absolute Difference</th>\n      <th>p (unadjusted)</th>\n      <th>p (adjusted)</th>\n      <th>p (Bonferroni)</th>\n      <th>p (Holm's)</th>\n    </tr>\n  </thead>\n  <tbody>\n    <tr>\n      <th>0</th>\n      <td>Con. v. 1:1, redcty in a red0, gave</td>\n      <td>0.007932</td>\n      <td>0.016333</td>\n      <td>0.389667</td>\n      <td>0.784</td>\n      <td>0.571667</td>\n    </tr>\n    <tr>\n      <th>1</th>\n      <td>Con. v. 2:1, redcty in a red0, gave</td>\n      <td>0.009990</td>\n      <td>0.002667</td>\n      <td>0.090000</td>\n      <td>0.128</td>\n      <td>0.112000</td>\n    </tr>\n    <tr>\n      <th>2</th>\n      <td>Con. v. 3:1, redcty in a red0, gave</td>\n      <td>0.010669</td>\n      <td>0.003000</td>\n      <td>0.101000</td>\n      <td>0.144</td>\n      <td>0.123000</td>\n    </tr>\n    <tr>\n      <th>3</th>\n      <td>Con. v. 1:1, bluecty in a red0, gave</td>\n      <td>0.002351</td>\n      <td>0.585333</td>\n      <td>1.000000</td>\n      <td>1.000</td>\n      <td>1.000000</td>\n    </tr>\n    <tr>\n      <th>4</th>\n      <td>Con. v. 2:1, bluecty in a red0, gave</td>\n      <td>0.007966</td>\n      <td>0.083000</td>\n      <td>0.874667</td>\n      <td>1.000</td>\n      <td>1.000000</td>\n    </tr>\n    <tr>\n      <th>5</th>\n      <td>Con. v. 3:1, bluecty in a red0, gave</td>\n      <td>0.010764</td>\n      <td>0.027667</td>\n      <td>0.549333</td>\n      <td>1.000</td>\n      <td>0.940667</td>\n    </tr>\n    <tr>\n      <th>6</th>\n      <td>Con. v. 1:1, redcty in a blue0, gave</td>\n      <td>0.000639</td>\n      <td>0.876667</td>\n      <td>1.000000</td>\n      <td>1.000</td>\n      <td>1.000000</td>\n    </tr>\n    <tr>\n      <th>7</th>\n      <td>Con. v. 2:1, redcty in a blue0, gave</td>\n      <td>0.002557</td>\n      <td>0.522000</td>\n      <td>1.000000</td>\n      <td>1.000</td>\n      <td>1.000000</td>\n    </tr>\n    <tr>\n      <th>8</th>\n      <td>Con. v. 3:1, redcty in a blue0, gave</td>\n      <td>0.003179</td>\n      <td>0.360333</td>\n      <td>0.999667</td>\n      <td>1.000</td>\n      <td>1.000000</td>\n    </tr>\n    <tr>\n      <th>9</th>\n      <td>Con. v. 1:1, bluecty in a blue0, gave</td>\n      <td>0.000333</td>\n      <td>0.909667</td>\n      <td>0.999333</td>\n      <td>1.000</td>\n      <td>1.000000</td>\n    </tr>\n    <tr>\n      <th>10</th>\n      <td>Con. v. 2:1, bluecty in a blue0, gave</td>\n      <td>0.000759</td>\n      <td>0.784333</td>\n      <td>1.000000</td>\n      <td>1.000</td>\n      <td>1.000000</td>\n    </tr>\n    <tr>\n      <th>11</th>\n      <td>Con. v. 3:1, bluecty in a blue0, gave</td>\n      <td>0.003425</td>\n      <td>0.242000</td>\n      <td>0.993333</td>\n      <td>1.000</td>\n      <td>1.000000</td>\n    </tr>\n    <tr>\n      <th>12</th>\n      <td>Con. v. 1:1, redcty in a red0, amount</td>\n      <td>0.426028</td>\n      <td>0.088667</td>\n      <td>0.884667</td>\n      <td>1.000</td>\n      <td>1.000000</td>\n    </tr>\n    <tr>\n      <th>13</th>\n      <td>Con. v. 2:1, redcty in a red0, amount</td>\n      <td>0.409711</td>\n      <td>0.055667</td>\n      <td>0.785333</td>\n      <td>1.000</td>\n      <td>1.000000</td>\n    </tr>\n    <tr>\n      <th>14</th>\n      <td>Con. v. 3:1, redcty in a red0, amount</td>\n      <td>0.321357</td>\n      <td>0.076333</td>\n      <td>0.860333</td>\n      <td>1.000</td>\n      <td>1.000000</td>\n    </tr>\n    <tr>\n      <th>15</th>\n      <td>Con. v. 1:1, bluecty in a red0, amount</td>\n      <td>0.037441</td>\n      <td>0.888000</td>\n      <td>1.000000</td>\n      <td>1.000</td>\n      <td>1.000000</td>\n    </tr>\n    <tr>\n      <th>16</th>\n      <td>Con. v. 2:1, bluecty in a red0, amount</td>\n      <td>0.432470</td>\n      <td>0.165667</td>\n      <td>0.973667</td>\n      <td>1.000</td>\n      <td>1.000000</td>\n    </tr>\n    <tr>\n      <th>17</th>\n      <td>Con. v. 3:1, bluecty in a red0, amount</td>\n      <td>0.572779</td>\n      <td>0.103667</td>\n      <td>0.911667</td>\n      <td>1.000</td>\n      <td>1.000000</td>\n    </tr>\n    <tr>\n      <th>18</th>\n      <td>Con. v. 1:1, redcty in a blue0, amount</td>\n      <td>0.007431</td>\n      <td>0.976667</td>\n      <td>0.976667</td>\n      <td>1.000</td>\n      <td>0.976667</td>\n    </tr>\n    <tr>\n      <th>19</th>\n      <td>Con. v. 2:1, redcty in a blue0, amount</td>\n      <td>0.037981</td>\n      <td>0.877000</td>\n      <td>1.000000</td>\n      <td>1.000</td>\n      <td>1.000000</td>\n    </tr>\n    <tr>\n      <th>20</th>\n      <td>Con. v. 3:1, redcty in a blue0, amount</td>\n      <td>0.217250</td>\n      <td>0.295000</td>\n      <td>0.997333</td>\n      <td>1.000</td>\n      <td>1.000000</td>\n    </tr>\n    <tr>\n      <th>21</th>\n      <td>Con. v. 1:1, bluecty in a blue0, amount</td>\n      <td>0.025519</td>\n      <td>0.885000</td>\n      <td>1.000000</td>\n      <td>1.000</td>\n      <td>1.000000</td>\n    </tr>\n    <tr>\n      <th>22</th>\n      <td>Con. v. 2:1, bluecty in a blue0, amount</td>\n      <td>0.079574</td>\n      <td>0.649333</td>\n      <td>1.000000</td>\n      <td>1.000</td>\n      <td>1.000000</td>\n    </tr>\n    <tr>\n      <th>23</th>\n      <td>Con. v. 3:1, bluecty in a blue0, amount</td>\n      <td>0.023565</td>\n      <td>0.887333</td>\n      <td>1.000000</td>\n      <td>1.000</td>\n      <td>1.000000</td>\n    </tr>\n    <tr>\n      <th>24</th>\n      <td>Con. v. 1:1, redcty in a red0, amountmatch</td>\n      <td>1.504220</td>\n      <td>0.010667</td>\n      <td>0.289667</td>\n      <td>0.512</td>\n      <td>0.394667</td>\n    </tr>\n    <tr>\n      <th>25</th>\n      <td>Con. v. 2:1, redcty in a red0, amountmatch</td>\n      <td>2.533463</td>\n      <td>0.000667</td>\n      <td>0.025333</td>\n      <td>0.032</td>\n      <td>0.030000</td>\n    </tr>\n    <tr>\n      <th>26</th>\n      <td>Con. v. 3:1, redcty in a red0, amountmatch</td>\n      <td>3.241919</td>\n      <td>0.000000</td>\n      <td>0.000000</td>\n      <td>0.000</td>\n      <td>0.000000</td>\n    </tr>\n    <tr>\n      <th>27</th>\n      <td>Con. v. 1:1, bluecty in a red0, amountmatch</td>\n      <td>0.837029</td>\n      <td>0.067333</td>\n      <td>0.827667</td>\n      <td>1.000</td>\n      <td>1.000000</td>\n    </tr>\n    <tr>\n      <th>28</th>\n      <td>Con. v. 2:1, bluecty in a red0, amountmatch</td>\n      <td>2.821704</td>\n      <td>0.007000</td>\n      <td>0.208000</td>\n      <td>0.336</td>\n      <td>0.273000</td>\n    </tr>\n    <tr>\n      <th>29</th>\n      <td>Con. v. 3:1, bluecty in a red0, amountmatch</td>\n      <td>4.577557</td>\n      <td>0.004333</td>\n      <td>0.137667</td>\n      <td>0.208</td>\n      <td>0.173333</td>\n    </tr>\n    <tr>\n      <th>30</th>\n      <td>Con. v. 1:1, redcty in a blue0, amountmatch</td>\n      <td>0.996728</td>\n      <td>0.014667</td>\n      <td>0.364667</td>\n      <td>0.704</td>\n      <td>0.528000</td>\n    </tr>\n    <tr>\n      <th>31</th>\n      <td>Con. v. 2:1, redcty in a blue0, amountmatch</td>\n      <td>2.137122</td>\n      <td>0.002333</td>\n      <td>0.080333</td>\n      <td>0.112</td>\n      <td>0.100333</td>\n    </tr>\n    <tr>\n      <th>32</th>\n      <td>Con. v. 3:1, redcty in a blue0, amountmatch</td>\n      <td>2.165769</td>\n      <td>0.000667</td>\n      <td>0.025000</td>\n      <td>0.032</td>\n      <td>0.029333</td>\n    </tr>\n    <tr>\n      <th>33</th>\n      <td>Con. v. 1:1, bluecty in a blue0, amountmatch</td>\n      <td>0.776651</td>\n      <td>0.009667</td>\n      <td>0.267000</td>\n      <td>0.464</td>\n      <td>0.367333</td>\n    </tr>\n    <tr>\n      <th>34</th>\n      <td>Con. v. 2:1, bluecty in a blue0, amountmatch</td>\n      <td>1.894100</td>\n      <td>0.000000</td>\n      <td>0.000000</td>\n      <td>0.000</td>\n      <td>0.000000</td>\n    </tr>\n    <tr>\n      <th>35</th>\n      <td>Con. v. 3:1, bluecty in a blue0, amountmatch</td>\n      <td>2.577329</td>\n      <td>0.000000</td>\n      <td>0.000000</td>\n      <td>0.000</td>\n      <td>0.000000</td>\n    </tr>\n    <tr>\n      <th>36</th>\n      <td>Con. v. 1:1, redcty in a red0, amountchange</td>\n      <td>1.825249</td>\n      <td>0.122333</td>\n      <td>0.936667</td>\n      <td>1.000</td>\n      <td>1.000000</td>\n    </tr>\n    <tr>\n      <th>37</th>\n      <td>Con. v. 2:1, redcty in a red0, amountchange</td>\n      <td>0.549103</td>\n      <td>0.644333</td>\n      <td>1.000000</td>\n      <td>1.000</td>\n      <td>1.000000</td>\n    </tr>\n    <tr>\n      <th>38</th>\n      <td>Con. v. 3:1, redcty in a red0, amountchange</td>\n      <td>0.068082</td>\n      <td>0.957333</td>\n      <td>0.998333</td>\n      <td>1.000</td>\n      <td>1.000000</td>\n    </tr>\n    <tr>\n      <th>39</th>\n      <td>Con. v. 1:1, bluecty in a red0, amountchange</td>\n      <td>92.322088</td>\n      <td>0.447333</td>\n      <td>1.000000</td>\n      <td>1.000</td>\n      <td>1.000000</td>\n    </tr>\n    <tr>\n      <th>40</th>\n      <td>Con. v. 2:1, bluecty in a red0, amountchange</td>\n      <td>93.722685</td>\n      <td>0.447333</td>\n      <td>1.000000</td>\n      <td>1.000</td>\n      <td>1.000000</td>\n    </tr>\n    <tr>\n      <th>41</th>\n      <td>Con. v. 3:1, bluecty in a red0, amountchange</td>\n      <td>94.264002</td>\n      <td>0.447333</td>\n      <td>1.000000</td>\n      <td>1.000</td>\n      <td>1.000000</td>\n    </tr>\n    <tr>\n      <th>42</th>\n      <td>Con. v. 1:1, redcty in a blue0, amountchange</td>\n      <td>0.929446</td>\n      <td>0.457000</td>\n      <td>1.000000</td>\n      <td>1.000</td>\n      <td>1.000000</td>\n    </tr>\n    <tr>\n      <th>43</th>\n      <td>Con. v. 2:1, redcty in a blue0, amountchange</td>\n      <td>0.293844</td>\n      <td>0.825333</td>\n      <td>1.000000</td>\n      <td>1.000</td>\n      <td>1.000000</td>\n    </tr>\n    <tr>\n      <th>44</th>\n      <td>Con. v. 3:1, redcty in a blue0, amountchange</td>\n      <td>0.514729</td>\n      <td>0.675000</td>\n      <td>1.000000</td>\n      <td>1.000</td>\n      <td>1.000000</td>\n    </tr>\n    <tr>\n      <th>45</th>\n      <td>Con. v. 1:1, bluecty in a blue0, amountchange</td>\n      <td>52.143796</td>\n      <td>0.436000</td>\n      <td>1.000000</td>\n      <td>1.000</td>\n      <td>1.000000</td>\n    </tr>\n    <tr>\n      <th>46</th>\n      <td>Con. v. 2:1, bluecty in a blue0, amountchange</td>\n      <td>0.471408</td>\n      <td>0.658333</td>\n      <td>1.000000</td>\n      <td>1.000</td>\n      <td>1.000000</td>\n    </tr>\n    <tr>\n      <th>47</th>\n      <td>Con. v. 3:1, bluecty in a blue0, amountchange</td>\n      <td>1.161360</td>\n      <td>0.252667</td>\n      <td>0.994000</td>\n      <td>1.000</td>\n      <td>1.000000</td>\n    </tr>\n  </tbody>\n</table>\n</div>"
     },
     "execution_count": 37,
     "metadata": {},
     "output_type": "execute_result"
    }
   ],
   "source": [
    "treatments_1 = [\n",
    "    [(\"treatment\", 0)]\n",
    "]\n",
    "treatments_2 = [\n",
    "    [(\"ratio\", 1)], [(\"ratio\", 2)], [(\"ratio\", 3)]\n",
    "]\n",
    "subgroups = [\n",
    "    [(\"red0\", 1), (\"redcty\", 1)], [(\"red0\", 1), (\"bluecty\", 1)], [(\"blue0\", 1), (\"redcty\", 1)], [(\"blue0\", 1), (\"bluecty\", 1)]\n",
    "]\n",
    "outcomes = [\n",
    "    \"gave\", \"amount\", \"amountmatch\", \"amountchange\"\n",
    "]\n",
    "\n",
    "S = []\n",
    "for o in outcomes:\n",
    "    for s in subgroups:\n",
    "        for t_1 in treatments_1:\n",
    "            for t_2 in treatments_2:\n",
    "                title = \"{} v. {}:1, {} in a {}, {}\".format(\n",
    "                    \"Con.\", t_2[0][1], s[1][0], s[0][0], o\n",
    "                )\n",
    "                print(title)\n",
    "                S.append(\n",
    "                    Index(\n",
    "                        t_1, t_2, s, o, title\n",
    "                    )\n",
    "                )\n",
    "\n",
    "output = mht.test(df, S)\n",
    "output.head(len(S))"
   ]
  },
  {
   "cell_type": "markdown",
   "metadata": {},
   "source": [
    "# Correct conclusions"
   ]
  },
  {
   "cell_type": "markdown",
   "metadata": {},
   "source": [
    "# New insights\n",
    "\n",
    "We will try to analyze the effect of treatments with respect to:\n",
    "1. Gender;\n",
    "2. Household size;\n",
    "3. Median household income;\n",
    "\n",
    "Using both tools of linear regression, and multi-testing."
   ]
  },
  {
   "cell_type": "markdown",
   "source": [
    "## Basic statistics\n",
    "\n",
    "We examine the response rate and amount of these subgroups visually. We are using a updated version of the same dataset with household income information."
   ],
   "metadata": {
    "collapsed": false
   }
  },
  {
   "cell_type": "code",
   "execution_count": 39,
   "outputs": [
    {
     "name": "stdout",
     "output_type": "stream",
     "text": [
      "Index(['treatment', 'control', 'ratio', 'ratio2', 'ratio3', 'size', 'size25',\n",
      "       'size50', 'size100', 'sizeno', 'ask', 'askd1', 'askd2', 'askd3', 'ask1',\n",
      "       'ask2', 'ask3', 'amount', 'gave', 'amountchange', 'hpa', 'ltmedmra',\n",
      "       'freq', 'years', 'year5', 'mrm2', 'dormant', 'female', 'couple',\n",
      "       'state50one', 'nonlit', 'cases', 'statecnt', 'stateresponse',\n",
      "       'stateresponset', 'stateresponsec', 'stateresponsetminc', 'perbush',\n",
      "       'close25', 'red0', 'blue0', 'redcty', 'bluecty', 'pwhite', 'pblack',\n",
      "       'page18_39', 'ave_hh_sz', 'median_hhincome', 'powner', 'psch_atlstba',\n",
      "       'pop_propurban', 'all'],\n",
      "      dtype='object')\n",
      "(50083, 52)\n"
     ]
    },
    {
     "data": {
      "text/plain": "   treatment  control    ratio  ratio2  ratio3      size  size25  size50  \\\n0          0        1  Control       0       0   Control       0       0   \n1          0        1  Control       0       0   Control       0       0   \n2          1        0        1       0       0  $100,000       0       0   \n3          1        0        1       0       0  Unstated       0       0   \n4          1        0        1       0       0   $50,000       0       1   \n\n   size100  sizeno  ... bluecty    pwhite    pblack  page18_39  ave_hh_sz  \\\n0        0       0  ...     1.0  0.446493  0.527769   0.317591       2.10   \n1        0       0  ...     0.0       NaN       NaN        NaN        NaN   \n2        1       0  ...     1.0  0.935706  0.011948   0.276128       2.48   \n3        0       1  ...     0.0  0.888331  0.010760   0.279412       2.65   \n4        0       0  ...     1.0  0.759014  0.127421   0.442389       1.85   \n\n   median_hhincome    powner  psch_atlstba  pop_propurban  all  \n0          28517.0  0.499807      0.324528            1.0    1  \n1              NaN       NaN           NaN            NaN    1  \n2          51175.0  0.721941      0.192668            1.0    1  \n3          79269.0  0.920431      0.412142            1.0    1  \n4          40908.0  0.416072      0.439965            1.0    1  \n\n[5 rows x 52 columns]",
      "text/html": "<div>\n<style scoped>\n    .dataframe tbody tr th:only-of-type {\n        vertical-align: middle;\n    }\n\n    .dataframe tbody tr th {\n        vertical-align: top;\n    }\n\n    .dataframe thead th {\n        text-align: right;\n    }\n</style>\n<table border=\"1\" class=\"dataframe\">\n  <thead>\n    <tr style=\"text-align: right;\">\n      <th></th>\n      <th>treatment</th>\n      <th>control</th>\n      <th>ratio</th>\n      <th>ratio2</th>\n      <th>ratio3</th>\n      <th>size</th>\n      <th>size25</th>\n      <th>size50</th>\n      <th>size100</th>\n      <th>sizeno</th>\n      <th>...</th>\n      <th>bluecty</th>\n      <th>pwhite</th>\n      <th>pblack</th>\n      <th>page18_39</th>\n      <th>ave_hh_sz</th>\n      <th>median_hhincome</th>\n      <th>powner</th>\n      <th>psch_atlstba</th>\n      <th>pop_propurban</th>\n      <th>all</th>\n    </tr>\n  </thead>\n  <tbody>\n    <tr>\n      <th>0</th>\n      <td>0</td>\n      <td>1</td>\n      <td>Control</td>\n      <td>0</td>\n      <td>0</td>\n      <td>Control</td>\n      <td>0</td>\n      <td>0</td>\n      <td>0</td>\n      <td>0</td>\n      <td>...</td>\n      <td>1.0</td>\n      <td>0.446493</td>\n      <td>0.527769</td>\n      <td>0.317591</td>\n      <td>2.10</td>\n      <td>28517.0</td>\n      <td>0.499807</td>\n      <td>0.324528</td>\n      <td>1.0</td>\n      <td>1</td>\n    </tr>\n    <tr>\n      <th>1</th>\n      <td>0</td>\n      <td>1</td>\n      <td>Control</td>\n      <td>0</td>\n      <td>0</td>\n      <td>Control</td>\n      <td>0</td>\n      <td>0</td>\n      <td>0</td>\n      <td>0</td>\n      <td>...</td>\n      <td>0.0</td>\n      <td>NaN</td>\n      <td>NaN</td>\n      <td>NaN</td>\n      <td>NaN</td>\n      <td>NaN</td>\n      <td>NaN</td>\n      <td>NaN</td>\n      <td>NaN</td>\n      <td>1</td>\n    </tr>\n    <tr>\n      <th>2</th>\n      <td>1</td>\n      <td>0</td>\n      <td>1</td>\n      <td>0</td>\n      <td>0</td>\n      <td>$100,000</td>\n      <td>0</td>\n      <td>0</td>\n      <td>1</td>\n      <td>0</td>\n      <td>...</td>\n      <td>1.0</td>\n      <td>0.935706</td>\n      <td>0.011948</td>\n      <td>0.276128</td>\n      <td>2.48</td>\n      <td>51175.0</td>\n      <td>0.721941</td>\n      <td>0.192668</td>\n      <td>1.0</td>\n      <td>1</td>\n    </tr>\n    <tr>\n      <th>3</th>\n      <td>1</td>\n      <td>0</td>\n      <td>1</td>\n      <td>0</td>\n      <td>0</td>\n      <td>Unstated</td>\n      <td>0</td>\n      <td>0</td>\n      <td>0</td>\n      <td>1</td>\n      <td>...</td>\n      <td>0.0</td>\n      <td>0.888331</td>\n      <td>0.010760</td>\n      <td>0.279412</td>\n      <td>2.65</td>\n      <td>79269.0</td>\n      <td>0.920431</td>\n      <td>0.412142</td>\n      <td>1.0</td>\n      <td>1</td>\n    </tr>\n    <tr>\n      <th>4</th>\n      <td>1</td>\n      <td>0</td>\n      <td>1</td>\n      <td>0</td>\n      <td>0</td>\n      <td>$50,000</td>\n      <td>0</td>\n      <td>1</td>\n      <td>0</td>\n      <td>0</td>\n      <td>...</td>\n      <td>1.0</td>\n      <td>0.759014</td>\n      <td>0.127421</td>\n      <td>0.442389</td>\n      <td>1.85</td>\n      <td>40908.0</td>\n      <td>0.416072</td>\n      <td>0.439965</td>\n      <td>1.0</td>\n      <td>1</td>\n    </tr>\n  </tbody>\n</table>\n<p>5 rows × 52 columns</p>\n</div>"
     },
     "execution_count": 39,
     "metadata": {},
     "output_type": "execute_result"
    }
   ],
   "source": [
    "data_path = \"../data/AER merged.csv\"\n",
    "df = pd.read_csv(data_path, index_col=0)\n",
    "\n",
    "# Add a dummy column for selecting all samples\n",
    "df[\"all\"] = 1\n",
    "\n",
    "print(df.keys())\n",
    "print(df.shape)\n",
    "\n",
    "df.head()"
   ],
   "metadata": {
    "collapsed": false,
    "pycharm": {
     "name": "#%%\n"
    }
   }
  },
  {
   "cell_type": "code",
   "execution_count": 40,
   "outputs": [
    {
     "name": "stdout",
     "output_type": "stream",
     "text": [
      "Median of median household income: 50673.0\n",
      "Median of average household size: 2.44\n"
     ]
    },
    {
     "data": {
      "text/plain": "Text(0.5, 0, 'Distribution of Average Household Size')"
     },
     "execution_count": 40,
     "metadata": {},
     "output_type": "execute_result"
    },
    {
     "data": {
      "text/plain": "<Figure size 1152x288 with 2 Axes>",
      "image/png": "[encoded data removed]"
     },
     "metadata": {
      "needs_background": "light"
     },
     "output_type": "display_data"
    }
   ],
   "source": [
    "median_mhi = df[\"median_hhincome\"].median()\n",
    "median_ahs = df[\"ave_hh_sz\"].median()\n",
    "\n",
    "print(\"Median of median household income: {}\".format(median_mhi))\n",
    "print(\"Median of average household size: {}\".format(median_ahs))\n",
    "\n",
    "df[\"high_income\"] = (df[\"median_hhincome\"] >= median_mhi).astype(int)\n",
    "df[\"large_family\"] = (df[\"ave_hh_sz\"] >= median_ahs).astype(int)\n",
    "\n",
    "fig, axes = plt.subplots(nrows=1, ncols=2, figsize=(16, 4))\n",
    "axes[0].hist(df[\"median_hhincome\"], density = True)\n",
    "axes[0].plot([median_mhi] * 2, [0, 2e-5], linewidth = 4)\n",
    "axes[0].set_xlabel(\"Distribution of Median Household Income\", fontsize = 16)\n",
    "axes[1].hist(df[\"ave_hh_sz\"], density = True)\n",
    "axes[1].plot([median_ahs] * 2, [0, 1.1], linewidth = 4)\n",
    "axes[1].set_xlabel(\"Distribution of Average Household Size\", fontsize = 16)"
   ],
   "metadata": {
    "collapsed": false,
    "pycharm": {
     "name": "#%%\n"
    }
   }
  },
  {
   "cell_type": "markdown",
   "source": [
    "## Linear Regression\n",
    "\n",
    "Please refer to the R Markdown document for this part. The linear regression part is a combination of reproducing results as well as trying to analyze some new insights."
   ],
   "metadata": {
    "collapsed": false
   }
  },
  {
   "cell_type": "markdown",
   "source": [
    "## Testing"
   ],
   "metadata": {
    "collapsed": false
   }
  },
  {
   "cell_type": "code",
   "execution_count": 41,
   "outputs": [
    {
     "name": "stdout",
     "output_type": "stream",
     "text": [
      "Different treatments: 2, different subgroups : 6, different outcomes 2, compare pairs: 1\n"
     ]
    },
    {
     "data": {
      "text/plain": "  0%|          | 0/3000 [00:00<?, ?it/s]",
      "application/vnd.jupyter.widget-view+json": {
       "version_major": 2,
       "version_minor": 0,
       "model_id": "3ea97cc824ad47c98b3e6017e5aa6a8c"
      }
     },
     "metadata": {},
     "output_type": "display_data"
    },
    {
     "name": "stdout",
     "output_type": "stream",
     "text": [
      "Check passed.\n"
     ]
    },
    {
     "data": {
      "text/plain": "                                    Hypotheses  Absolute Difference  \\\n0                         Female Response Rate             0.002926   \n1                           Male Response Rate             0.005133   \n2   High Median Household Income Response Rate             0.001740   \n3    Low Median Household income Response Rate             0.006448   \n4           Large Household Size Response Rate             0.003454   \n5    Small Household Size income Response Rate             0.004825   \n6                                Female Amount             0.051749   \n7                                  Male Amount             0.203482   \n8          High Median Household Income Amount             0.109186   \n9           Low Median Household income Amount             0.195684   \n10          Large Household Size Income Amount             0.114768   \n11          Small Household Size income Amount             0.188537   \n\n    p (unadjusted)  p (adjusted)  p (Bonferroni)  p (Holm's)  \n0         0.262000      0.669000           1.000    1.000000  \n1         0.000000      0.000000           0.000    0.000000  \n2         0.358667      0.672667           1.000    1.000000  \n3         0.000333      0.003667           0.004    0.003667  \n4         0.070333      0.312333           0.844    0.492333  \n5         0.005667      0.042333           0.068    0.056667  \n6         0.714667      0.714667           1.000    0.714667  \n7         0.042333      0.238333           0.508    0.381000  \n8         0.405333      0.626000           1.000    0.810667  \n9         0.051000      0.263667           0.612    0.408000  \n10        0.315333      0.699667           1.000    1.000000  \n11        0.091333      0.356333           1.000    0.548000  ",
      "text/html": "<div>\n<style scoped>\n    .dataframe tbody tr th:only-of-type {\n        vertical-align: middle;\n    }\n\n    .dataframe tbody tr th {\n        vertical-align: top;\n    }\n\n    .dataframe thead th {\n        text-align: right;\n    }\n</style>\n<table border=\"1\" class=\"dataframe\">\n  <thead>\n    <tr style=\"text-align: right;\">\n      <th></th>\n      <th>Hypotheses</th>\n      <th>Absolute Difference</th>\n      <th>p (unadjusted)</th>\n      <th>p (adjusted)</th>\n      <th>p (Bonferroni)</th>\n      <th>p (Holm's)</th>\n    </tr>\n  </thead>\n  <tbody>\n    <tr>\n      <th>0</th>\n      <td>Female Response Rate</td>\n      <td>0.002926</td>\n      <td>0.262000</td>\n      <td>0.669000</td>\n      <td>1.000</td>\n      <td>1.000000</td>\n    </tr>\n    <tr>\n      <th>1</th>\n      <td>Male Response Rate</td>\n      <td>0.005133</td>\n      <td>0.000000</td>\n      <td>0.000000</td>\n      <td>0.000</td>\n      <td>0.000000</td>\n    </tr>\n    <tr>\n      <th>2</th>\n      <td>High Median Household Income Response Rate</td>\n      <td>0.001740</td>\n      <td>0.358667</td>\n      <td>0.672667</td>\n      <td>1.000</td>\n      <td>1.000000</td>\n    </tr>\n    <tr>\n      <th>3</th>\n      <td>Low Median Household income Response Rate</td>\n      <td>0.006448</td>\n      <td>0.000333</td>\n      <td>0.003667</td>\n      <td>0.004</td>\n      <td>0.003667</td>\n    </tr>\n    <tr>\n      <th>4</th>\n      <td>Large Household Size Response Rate</td>\n      <td>0.003454</td>\n      <td>0.070333</td>\n      <td>0.312333</td>\n      <td>0.844</td>\n      <td>0.492333</td>\n    </tr>\n    <tr>\n      <th>5</th>\n      <td>Small Household Size income Response Rate</td>\n      <td>0.004825</td>\n      <td>0.005667</td>\n      <td>0.042333</td>\n      <td>0.068</td>\n      <td>0.056667</td>\n    </tr>\n    <tr>\n      <th>6</th>\n      <td>Female Amount</td>\n      <td>0.051749</td>\n      <td>0.714667</td>\n      <td>0.714667</td>\n      <td>1.000</td>\n      <td>0.714667</td>\n    </tr>\n    <tr>\n      <th>7</th>\n      <td>Male Amount</td>\n      <td>0.203482</td>\n      <td>0.042333</td>\n      <td>0.238333</td>\n      <td>0.508</td>\n      <td>0.381000</td>\n    </tr>\n    <tr>\n      <th>8</th>\n      <td>High Median Household Income Amount</td>\n      <td>0.109186</td>\n      <td>0.405333</td>\n      <td>0.626000</td>\n      <td>1.000</td>\n      <td>0.810667</td>\n    </tr>\n    <tr>\n      <th>9</th>\n      <td>Low Median Household income Amount</td>\n      <td>0.195684</td>\n      <td>0.051000</td>\n      <td>0.263667</td>\n      <td>0.612</td>\n      <td>0.408000</td>\n    </tr>\n    <tr>\n      <th>10</th>\n      <td>Large Household Size Income Amount</td>\n      <td>0.114768</td>\n      <td>0.315333</td>\n      <td>0.699667</td>\n      <td>1.000</td>\n      <td>1.000000</td>\n    </tr>\n    <tr>\n      <th>11</th>\n      <td>Small Household Size income Amount</td>\n      <td>0.188537</td>\n      <td>0.091333</td>\n      <td>0.356333</td>\n      <td>1.000</td>\n      <td>0.548000</td>\n    </tr>\n  </tbody>\n</table>\n</div>"
     },
     "execution_count": 41,
     "metadata": {},
     "output_type": "execute_result"
    }
   ],
   "source": [
    "S = [\n",
    "    Index([(\"treatment\", 0)], [(\"treatment\", 1)], [(\"female\", 1)], \"gave\", \"Female Response Rate\"),\n",
    "    Index([(\"treatment\", 0)], [(\"treatment\", 1)], [(\"female\", 0)], \"gave\", \"Male Response Rate\"),\n",
    "    Index([(\"treatment\", 0)], [(\"treatment\", 1)], [(\"high_income\", 1)], \"gave\", \"High Median Household Income Response Rate\"),\n",
    "    Index([(\"treatment\", 0)], [(\"treatment\", 1)], [(\"high_income\", 0)], \"gave\", \"Low Median Household income Response Rate\"),\n",
    "    Index([(\"treatment\", 0)], [(\"treatment\", 1)], [(\"large_family\", 1)], \"gave\", \"Large Household Size Response Rate\"),\n",
    "    Index([(\"treatment\", 0)], [(\"treatment\", 1)], [(\"large_family\", 0)], \"gave\", \"Small Household Size income Response Rate\"),\n",
    "    Index([(\"treatment\", 0)], [(\"treatment\", 1)], [(\"female\", 1)], \"amount\", \"Female Amount\"),\n",
    "    Index([(\"treatment\", 0)], [(\"treatment\", 1)], [(\"female\", 0)], \"amount\", \"Male Amount\"),\n",
    "    Index([(\"treatment\", 0)], [(\"treatment\", 1)], [(\"high_income\", 1)], \"amount\", \"High Median Household Income Amount\"),\n",
    "    Index([(\"treatment\", 0)], [(\"treatment\", 1)], [(\"high_income\", 0)], \"amount\", \"Low Median Household income Amount\"),\n",
    "    Index([(\"treatment\", 0)], [(\"treatment\", 1)], [(\"large_family\", 1)], \"amount\", \"Large Household Size Income Amount\"),\n",
    "    Index([(\"treatment\", 0)], [(\"treatment\", 1)], [(\"large_family\", 0)], \"amount\", \"Small Household Size income Amount\"),\n",
    "]\n",
    "\n",
    "output = mht.test(df, S)\n",
    "output.head(len(S))"
   ],
   "metadata": {
    "collapsed": false,
    "pycharm": {
     "name": "#%%\n"
    }
   }
  },
  {
   "cell_type": "code",
   "execution_count": null,
   "outputs": [],
   "source": [],
   "metadata": {
    "collapsed": false,
    "pycharm": {
     "name": "#%%\n"
    }
   }
  }
 ],
 "metadata": {
  "kernelspec": {
   "display_name": "Python 3.10.0 ('science')",
   "language": "python",
   "name": "python3"
  },
  "language_info": {
   "codemirror_mode": {
    "name": "ipython",
    "version": 3
   },
   "file_extension": ".py",
   "mimetype": "text/x-python",
   "name": "python",
   "nbconvert_exporter": "python",
   "pygments_lexer": "ipython3",
   "version": "3.10.0"
  },
  "orig_nbformat": 4,
  "vscode": {
   "interpreter": {
    "hash": "aeed4005d6252c44a324f5892fd958e02585c2ce05b1bc90dd5fa4f774cff653"
   }
  }
 },
 "nbformat": 4,
 "nbformat_minor": 2
}